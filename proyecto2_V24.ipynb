{
 "cells": [
  {
   "cell_type": "code",
   "execution_count": 1,
   "metadata": {
    "scrolled": true
   },
   "outputs": [],
   "source": [
    "import pandas as pd\n",
    "import numpy as np\n",
    "from plotnine import *\n",
    "from pandas_profiling import profile_report\n",
    "from matplotlib import pyplot as plt\n",
    "import seaborn as sns\n",
    "import math\n",
    "from random import randint\n",
    "from sklearn.model_selection import train_test_split,RandomizedSearchCV\n",
    "\n",
    "from imblearn.over_sampling import SMOTE \n",
    "from imblearn.under_sampling import RandomUnderSampler, NearMiss\n",
    "from sklearn.model_selection import train_test_split, GridSearchCV, RepeatedStratifiedKFold, cross_val_score\n",
    "from sklearn.metrics import confusion_matrix, classification_report, make_scorer, accuracy_score, precision_score, recall_score, f1_score, roc_auc_score\n",
    "from sklearn import metrics as mt\n",
    "import scorecardpy as sc\n",
    "import warnings\n",
    "warnings.simplefilter(\"ignore\")\n"
   ]
  },
  {
   "cell_type": "markdown",
   "metadata": {},
   "source": [
    "En primer lugar cargamos la base de datos"
   ]
  },
  {
   "cell_type": "code",
   "execution_count": 2,
   "metadata": {},
   "outputs": [
    {
     "data": {
      "text/html": [
       "<div>\n",
       "<style scoped>\n",
       "    .dataframe tbody tr th:only-of-type {\n",
       "        vertical-align: middle;\n",
       "    }\n",
       "\n",
       "    .dataframe tbody tr th {\n",
       "        vertical-align: top;\n",
       "    }\n",
       "\n",
       "    .dataframe thead th {\n",
       "        text-align: right;\n",
       "    }\n",
       "</style>\n",
       "<table border=\"1\" class=\"dataframe\">\n",
       "  <thead>\n",
       "    <tr style=\"text-align: right;\">\n",
       "      <th></th>\n",
       "      <th>Unnamed: 0</th>\n",
       "      <th>client</th>\n",
       "      <th>client_id</th>\n",
       "      <th>f_nac</th>\n",
       "      <th>edad</th>\n",
       "      <th>ingr_liquido</th>\n",
       "      <th>comuna</th>\n",
       "      <th>comuna_id</th>\n",
       "      <th>ciudad</th>\n",
       "      <th>ciudad_id</th>\n",
       "      <th>...</th>\n",
       "      <th>period_fabr</th>\n",
       "      <th>auto_tasacion</th>\n",
       "      <th>auto_tot_tas</th>\n",
       "      <th>num_auto</th>\n",
       "      <th>p_avaluo_total</th>\n",
       "      <th>marca_malo</th>\n",
       "      <th>dconsumo</th>\n",
       "      <th>lincred</th>\n",
       "      <th>dhipotecario</th>\n",
       "      <th>num_Inst</th>\n",
       "    </tr>\n",
       "  </thead>\n",
       "  <tbody>\n",
       "    <tr>\n",
       "      <th>0</th>\n",
       "      <td>0</td>\n",
       "      <td>2711</td>\n",
       "      <td>1</td>\n",
       "      <td>08-11-1964</td>\n",
       "      <td>51</td>\n",
       "      <td>890869</td>\n",
       "      <td>LAS CONDES</td>\n",
       "      <td>119</td>\n",
       "      <td>SANTIAGO</td>\n",
       "      <td>44</td>\n",
       "      <td>...</td>\n",
       "      <td>2011.0</td>\n",
       "      <td>28477500.0</td>\n",
       "      <td>28477500.0</td>\n",
       "      <td>3.0</td>\n",
       "      <td>123350160.0</td>\n",
       "      <td>0.0</td>\n",
       "      <td>25506000.0</td>\n",
       "      <td>54258000.0</td>\n",
       "      <td>144142000.0</td>\n",
       "      <td>3.0</td>\n",
       "    </tr>\n",
       "    <tr>\n",
       "      <th>1</th>\n",
       "      <td>1</td>\n",
       "      <td>6711</td>\n",
       "      <td>33</td>\n",
       "      <td>16-03-1958</td>\n",
       "      <td>58</td>\n",
       "      <td>843262</td>\n",
       "      <td>SANTIAGO</td>\n",
       "      <td>271</td>\n",
       "      <td>SANTIAGO</td>\n",
       "      <td>44</td>\n",
       "      <td>...</td>\n",
       "      <td>2012.0</td>\n",
       "      <td>3300000.0</td>\n",
       "      <td>3300000.0</td>\n",
       "      <td>1.0</td>\n",
       "      <td>29729305.0</td>\n",
       "      <td>0.0</td>\n",
       "      <td>3746000.0</td>\n",
       "      <td>5837000.0</td>\n",
       "      <td>20796000.0</td>\n",
       "      <td>1.0</td>\n",
       "    </tr>\n",
       "  </tbody>\n",
       "</table>\n",
       "<p>2 rows × 31 columns</p>\n",
       "</div>"
      ],
      "text/plain": [
       "   Unnamed: 0  client  client_id       f_nac  edad  ingr_liquido      comuna  \\\n",
       "0           0    2711          1  08-11-1964    51        890869  LAS CONDES   \n",
       "1           1    6711         33  16-03-1958    58        843262    SANTIAGO   \n",
       "\n",
       "   comuna_id    ciudad  ciudad_id  ...  period_fabr auto_tasacion  \\\n",
       "0        119  SANTIAGO         44  ...       2011.0    28477500.0   \n",
       "1        271  SANTIAGO         44  ...       2012.0     3300000.0   \n",
       "\n",
       "   auto_tot_tas num_auto  p_avaluo_total  marca_malo    dconsumo     lincred  \\\n",
       "0    28477500.0      3.0     123350160.0         0.0  25506000.0  54258000.0   \n",
       "1     3300000.0      1.0      29729305.0         0.0   3746000.0   5837000.0   \n",
       "\n",
       "  dhipotecario  num_Inst  \n",
       "0  144142000.0       3.0  \n",
       "1   20796000.0       1.0  \n",
       "\n",
       "[2 rows x 31 columns]"
      ]
     },
     "execution_count": 2,
     "metadata": {},
     "output_type": "execute_result"
    }
   ],
   "source": [
    "df=pd.read_csv(\"DataCredit.csv\", sep=\";\")\n",
    "df.head(2)"
   ]
  },
  {
   "cell_type": "markdown",
   "metadata": {},
   "source": [
    "Luego revisamos las variables de la base y de que tipo son"
   ]
  },
  {
   "cell_type": "code",
   "execution_count": 3,
   "metadata": {},
   "outputs": [
    {
     "name": "stdout",
     "output_type": "stream",
     "text": [
      "<class 'pandas.core.frame.DataFrame'>\n",
      "RangeIndex: 52394 entries, 0 to 52393\n",
      "Data columns (total 31 columns):\n",
      " #   Column          Non-Null Count  Dtype  \n",
      "---  ------          --------------  -----  \n",
      " 0   Unnamed: 0      52394 non-null  int64  \n",
      " 1   client          52394 non-null  int64  \n",
      " 2   client_id       52394 non-null  int64  \n",
      " 3   f_nac           52394 non-null  object \n",
      " 4   edad            52394 non-null  int64  \n",
      " 5   ingr_liquido    52394 non-null  int64  \n",
      " 6   comuna          52394 non-null  object \n",
      " 7   comuna_id       52394 non-null  int64  \n",
      " 8   ciudad          52394 non-null  object \n",
      " 9   ciudad_id       52394 non-null  int64  \n",
      " 10  region          52394 non-null  int64  \n",
      " 11  gse             41989 non-null  object \n",
      " 12  gse_id          41989 non-null  float64\n",
      " 13  prof            20621 non-null  object \n",
      " 14  prof_id         20621 non-null  float64\n",
      " 15  genero          52394 non-null  int64  \n",
      " 16  cond_civ        52394 non-null  int64  \n",
      " 17  antig_client    52394 non-null  int64  \n",
      " 18  auto_marca      29204 non-null  object \n",
      " 19  auto            52394 non-null  int64  \n",
      " 20  auto_marca_id   29204 non-null  float64\n",
      " 21  period_fabr     29204 non-null  float64\n",
      " 22  auto_tasacion   29204 non-null  float64\n",
      " 23  auto_tot_tas    29204 non-null  float64\n",
      " 24  num_auto        29204 non-null  float64\n",
      " 25  p_avaluo_total  31461 non-null  float64\n",
      " 26  marca_malo      52379 non-null  float64\n",
      " 27  dconsumo        52351 non-null  float64\n",
      " 28  lincred         52351 non-null  float64\n",
      " 29  dhipotecario    52351 non-null  float64\n",
      " 30  num_Inst        52351 non-null  float64\n",
      "dtypes: float64(13), int64(12), object(6)\n",
      "memory usage: 12.4+ MB\n"
     ]
    },
    {
     "data": {
      "text/plain": [
       "(None, (52394, 31))"
      ]
     },
     "execution_count": 3,
     "metadata": {},
     "output_type": "execute_result"
    }
   ],
   "source": [
    "df.info(), df.shape"
   ]
  },
  {
   "cell_type": "markdown",
   "metadata": {},
   "source": [
    "Verificamos que no hayan datos faltantes"
   ]
  },
  {
   "cell_type": "code",
   "execution_count": 4,
   "metadata": {},
   "outputs": [
    {
     "data": {
      "text/plain": [
       "Unnamed: 0            0\n",
       "client                0\n",
       "client_id             0\n",
       "f_nac                 0\n",
       "edad                  0\n",
       "ingr_liquido          0\n",
       "comuna                0\n",
       "comuna_id             0\n",
       "ciudad                0\n",
       "ciudad_id             0\n",
       "region                0\n",
       "gse               10405\n",
       "gse_id            10405\n",
       "prof              31773\n",
       "prof_id           31773\n",
       "genero                0\n",
       "cond_civ              0\n",
       "antig_client          0\n",
       "auto_marca        23190\n",
       "auto                  0\n",
       "auto_marca_id     23190\n",
       "period_fabr       23190\n",
       "auto_tasacion     23190\n",
       "auto_tot_tas      23190\n",
       "num_auto          23190\n",
       "p_avaluo_total    20933\n",
       "marca_malo           15\n",
       "dconsumo             43\n",
       "lincred              43\n",
       "dhipotecario         43\n",
       "num_Inst             43\n",
       "dtype: int64"
      ]
     },
     "execution_count": 4,
     "metadata": {},
     "output_type": "execute_result"
    }
   ],
   "source": [
    "df.isnull().sum()"
   ]
  },
  {
   "cell_type": "markdown",
   "metadata": {},
   "source": [
    "Se puede visualizar que hay varios parametros con datos faltantes que se repiten, por lo tanto, se podría asumir que hay alguna relación entre dichos parametros. \n",
    "\n",
    "Tanto *gse* como *gse_id* poseen 10 405 datos faltantes, ese es el primer caso a revisar.\n",
    "\n",
    "Luego tanto *auto_marca* , *auto_marca_id* , *period_fabr* , *auto_tasacion* , *auto_tot_tas* , *num_auto* tienen 23 190 datos faltantes, este será el tercer caso a revisar.\n",
    "\n",
    "Luego *prof* y *prof_id* tienen 31 773 datos faltantes, ese será el segundo caso a revisar. \n",
    "\n",
    "\n",
    "Luego *dconsumo* , *lincred* , *dhipotecario* y *num_Inst* poseen 43 datos faltantes este será el cuarto caso\n",
    "\n",
    "\n",
    "Finalmente *p_avaluo_total* y *marca_malo* tienen 20 933 y 15 datos faltantes respectivamente, estos serán revisados particularmente."
   ]
  },
  {
   "cell_type": "code",
   "execution_count": 5,
   "metadata": {},
   "outputs": [
    {
     "name": "stdout",
     "output_type": "stream",
     "text": [
      "Ambas variables tienen los mismos registros con datos faltanes\n"
     ]
    }
   ],
   "source": [
    "df_gse = df[df[\"gse\"].isnull()]\n",
    "df_gse_id = df[df[\"gse_id\"].isnull()]\n",
    "\n",
    "if (df_gse[\"client_id\"]==df_gse_id[\"client_id\"]).all():\n",
    "    print(\"Ambas variables tienen los mismos registros con datos faltanes\")"
   ]
  },
  {
   "cell_type": "markdown",
   "metadata": {},
   "source": [
    "Se observa que, tanto las variables gse como gse_id poseen un porcentaje de valores faltantes de casi el 20% del total de registros, por lo que se toma la decisión de eliminar ambas variables, dado que tanto la imputación como la eliminación de registros, podrían provocar errores en el aprendizaje-testeo de los modelos a futuro"
   ]
  },
  {
   "cell_type": "code",
   "execution_count": 6,
   "metadata": {},
   "outputs": [],
   "source": [
    "del df[\"gse\"]\n",
    "del df[\"gse_id\"]"
   ]
  },
  {
   "cell_type": "markdown",
   "metadata": {},
   "source": [
    "El segundo caso a analizar es el de los automoviles, al igual que en el anterior modelo se verificará si todos los datos pertenecen a las mismas personas. (*auto_marca* , *auto_marca_id* , *period_fabr* , *auto_tasacion* , *auto_tot_tas* , *num_auto*)\n"
   ]
  },
  {
   "cell_type": "code",
   "execution_count": 7,
   "metadata": {},
   "outputs": [
    {
     "name": "stdout",
     "output_type": "stream",
     "text": [
      "Los datos faltantes son de los mismos registros\n"
     ]
    }
   ],
   "source": [
    "df_marca = df[df[\"auto_marca\"].isnull()]\n",
    "df_marca_id = df[df[\"auto_marca_id\"].isnull()]\n",
    "df_period_fabr = df[df[\"period_fabr\"].isnull()]\n",
    "df_tas = df[df[\"auto_tasacion\"].isnull()]\n",
    "df_tot_tas = df[df[\"auto_tot_tas\"].isnull()]\n",
    "\n",
    "if (df_marca[\"client_id\"] == df_marca_id[\"client_id\"]).all and (df_marca[\"client_id\"] == df_period_fabr[\"client_id\"]).all:\n",
    "        if (df_marca[\"client_id\"] == df_tas[\"client_id\"]).all and (df_marca[\"client_id\"] == df_tot_tas[\"client_id\"]).all:\n",
    "                print(\"Los datos faltantes son de los mismos registros\")\n",
    "\n"
   ]
  },
  {
   "cell_type": "markdown",
   "metadata": {},
   "source": [
    "Al ser 23 190 datos faltantes que representan más del 44% del total de registros, se toma la decisión de no trabajar con las variables que hagan referencia a la tenencia de automovil, dado que la inputación de dichos valores, interviene de manera significativa en los resultados, por lo tanto se eliminaran todas las variables relacionadas a movilizacion"
   ]
  },
  {
   "cell_type": "code",
   "execution_count": 8,
   "metadata": {},
   "outputs": [],
   "source": [
    "del df[\"auto_marca\"]\n",
    "del df[\"auto_marca_id\"]\n",
    "del df[\"period_fabr\"]\n",
    "del df[\"auto_tasacion\"]\n",
    "del df[\"num_auto\"]\n",
    "del df[\"auto_tot_tas\"]"
   ]
  },
  {
   "cell_type": "markdown",
   "metadata": {},
   "source": [
    "En el caso de las variables *prof* y *prof_id*, se tomá la decisión de eliminar ambas variables por el hecho de que los datos faltantes representan cerca de un 60% de todos los datos, por lo tanto, la manipulación de estos datos generaría un gran impacto negativo en la realidad de los datos."
   ]
  },
  {
   "cell_type": "code",
   "execution_count": 9,
   "metadata": {},
   "outputs": [],
   "source": [
    "del df[\"prof\"]\n",
    "del df[\"prof_id\"]"
   ]
  },
  {
   "cell_type": "markdown",
   "metadata": {},
   "source": [
    "El cuarto caso a analizar es el de las variables *dconsumo*, *lincred*, *dhipotecario* y *num_inst*, primero se debe analizar si todos los datos faltantes provienen de los mismos clientes"
   ]
  },
  {
   "cell_type": "code",
   "execution_count": 10,
   "metadata": {},
   "outputs": [
    {
     "name": "stdout",
     "output_type": "stream",
     "text": [
      "Los datos faltantes provienen de los mismos clientes\n"
     ]
    }
   ],
   "source": [
    "df_lincred = df[df[\"lincred\"].isnull()]\n",
    "df_dconsumo = df[df[\"dconsumo\"].isnull()]\n",
    "df_dhipotecario = df[df[\"dhipotecario\"].isnull()]\n",
    "df_num_inst = df[df[\"num_Inst\"].isnull()]\n",
    "\n",
    "if (df_lincred[\"client_id\"]==df_dconsumo[\"client_id\"]).all and (df_dhipotecario[\"client_id\"]==df_num_inst[\"client_id\"]).all and (df_lincred[\"client_id\"]==df_dhipotecario[\"client_id\"]).all:\n",
    "    print(\"Los datos faltantes provienen de los mismos clientes\")"
   ]
  },
  {
   "cell_type": "markdown",
   "metadata": {},
   "source": [
    "Luego de analizar los datos faltantes de dichas variables, se infiere que son personas, las cuales no tienen un historial crediticio, ya que, no poseen registros de creditos, las propiedades que poseen son de bajo valor, al igual que los autos, por lo tanto, no son objeto de estudio, ya que no hacen uso de créditos, por lo tanto, no nos interesa saber si son buenos o malos clientes. Por lo tanto se eliminaran aquellos registros."
   ]
  },
  {
   "cell_type": "code",
   "execution_count": 11,
   "metadata": {},
   "outputs": [],
   "source": [
    "df = df.dropna(subset = [\"lincred\"])"
   ]
  },
  {
   "cell_type": "markdown",
   "metadata": {},
   "source": [
    "En el caso de la variable *p_avaluo_total* se asignara un valor 0 a el avaluo de su propiedad, infiriendo que no poseen una."
   ]
  },
  {
   "cell_type": "code",
   "execution_count": 12,
   "metadata": {},
   "outputs": [],
   "source": [
    "df[\"p_avaluo_total\"].fillna(0, inplace=True)"
   ]
  },
  {
   "cell_type": "markdown",
   "metadata": {},
   "source": [
    "En el caso de la variable *marca_malo* los datos faltantes se eliminaran, debido a que no poseemos el modelo con el cual se clasifico a los clientes como buenos o malos, por lo tanto, se podría clasificar erroneamente."
   ]
  },
  {
   "cell_type": "code",
   "execution_count": 13,
   "metadata": {},
   "outputs": [],
   "source": [
    "df = df.dropna(subset=[\"marca_malo\"])"
   ]
  },
  {
   "cell_type": "code",
   "execution_count": 14,
   "metadata": {},
   "outputs": [
    {
     "data": {
      "text/plain": [
       "(0,\n",
       " Unnamed: 0        0\n",
       " client            0\n",
       " client_id         0\n",
       " f_nac             0\n",
       " edad              0\n",
       " ingr_liquido      0\n",
       " comuna            0\n",
       " comuna_id         0\n",
       " ciudad            0\n",
       " ciudad_id         0\n",
       " region            0\n",
       " genero            0\n",
       " cond_civ          0\n",
       " antig_client      0\n",
       " auto              0\n",
       " p_avaluo_total    0\n",
       " marca_malo        0\n",
       " dconsumo          0\n",
       " lincred           0\n",
       " dhipotecario      0\n",
       " num_Inst          0\n",
       " dtype: int64)"
      ]
     },
     "execution_count": 14,
     "metadata": {},
     "output_type": "execute_result"
    }
   ],
   "source": [
    "df.duplicated().sum(), df.isnull().sum()"
   ]
  },
  {
   "cell_type": "markdown",
   "metadata": {},
   "source": [
    "Luego de aplicar todos estos cambios a la base de datos, se obtiene una base limpia, sin datos nulos, ni datos duplicados, ahora se procederá a hacer un analisis por variable."
   ]
  },
  {
   "cell_type": "markdown",
   "metadata": {},
   "source": [
    "Eliminaremos tanto las variables \"client\", como \"client_id\", ya que ambas son identificadores que son irrelevantes en la toma de decisiones, dado que no nos entregan mayor información acerca de la conducta del cliente, generalmente son utilizadas por el banco para tener un \"orden\" de los datos.."
   ]
  },
  {
   "cell_type": "code",
   "execution_count": 15,
   "metadata": {},
   "outputs": [],
   "source": [
    "del df[\"client\"]\n",
    "del df[\"client_id\"]"
   ]
  },
  {
   "cell_type": "markdown",
   "metadata": {},
   "source": [
    "Elimiminaremos tambien la fecha de nacimiento, ya que, entrega la misma información que la edad del cliente"
   ]
  },
  {
   "cell_type": "code",
   "execution_count": 16,
   "metadata": {},
   "outputs": [],
   "source": [
    "del df[\"f_nac\"]"
   ]
  },
  {
   "cell_type": "code",
   "execution_count": 17,
   "metadata": {},
   "outputs": [
    {
     "name": "stdout",
     "output_type": "stream",
     "text": [
      "<class 'pandas.core.frame.DataFrame'>\n",
      "Int64Index: 52337 entries, 0 to 52393\n",
      "Data columns (total 18 columns):\n",
      " #   Column          Non-Null Count  Dtype  \n",
      "---  ------          --------------  -----  \n",
      " 0   Unnamed: 0      52337 non-null  int64  \n",
      " 1   edad            52337 non-null  int64  \n",
      " 2   ingr_liquido    52337 non-null  int64  \n",
      " 3   comuna          52337 non-null  object \n",
      " 4   comuna_id       52337 non-null  int64  \n",
      " 5   ciudad          52337 non-null  object \n",
      " 6   ciudad_id       52337 non-null  int64  \n",
      " 7   region          52337 non-null  int64  \n",
      " 8   genero          52337 non-null  int64  \n",
      " 9   cond_civ        52337 non-null  int64  \n",
      " 10  antig_client    52337 non-null  int64  \n",
      " 11  auto            52337 non-null  int64  \n",
      " 12  p_avaluo_total  52337 non-null  float64\n",
      " 13  marca_malo      52337 non-null  float64\n",
      " 14  dconsumo        52337 non-null  float64\n",
      " 15  lincred         52337 non-null  float64\n",
      " 16  dhipotecario    52337 non-null  float64\n",
      " 17  num_Inst        52337 non-null  float64\n",
      "dtypes: float64(6), int64(10), object(2)\n",
      "memory usage: 7.6+ MB\n"
     ]
    },
    {
     "data": {
      "text/plain": [
       "(None, (52337, 18))"
      ]
     },
     "execution_count": 17,
     "metadata": {},
     "output_type": "execute_result"
    }
   ],
   "source": [
    "df.info(), df.shape"
   ]
  },
  {
   "cell_type": "markdown",
   "metadata": {},
   "source": [
    "Vamos a ver otras variables correlacionadas"
   ]
  },
  {
   "cell_type": "code",
   "execution_count": 18,
   "metadata": {},
   "outputs": [
    {
     "data": {
      "image/png": "[encoded data removed]",
      "text/plain": [
       "<Figure size 1440x864 with 2 Axes>"
      ]
     },
     "metadata": {
      "needs_background": "light"
     },
     "output_type": "display_data"
    }
   ],
   "source": [
    "fig, ax = plt.subplots(1, 1, figsize=(20,12))\n",
    "corr = df.corr()\n",
    "sns.heatmap(corr,ax = ax, cmap='winter',annot=True)\n",
    "fig.subplots_adjust(top = 0.93)\n",
    "fig.suptitle('Correlaciones Variables data', fontsize=14,fontweight='bold')\n",
    "plt.show()"
   ]
  },
  {
   "cell_type": "markdown",
   "metadata": {},
   "source": [
    "Se observa una alta correlación entre las variables *ciudad_id*, *comuna_id* y *region* lo que es esperable, dado que la comuna implicitamente entrega información de la ciudad y la región, por lo tanto, eliminaremos tanto *ciudad_id* como *comuna_id*, dado a que la cantidad de opciones que tiene la variable crece exponencialmente, en otras palabras, la región solo posee 15 opciones en cambio la ciudad y la comuna, más de 100 lo que sería absurdo a la hora de hacer analisis, por ejemplo en arboles de decision"
   ]
  },
  {
   "cell_type": "code",
   "execution_count": 19,
   "metadata": {},
   "outputs": [],
   "source": [
    "del df[\"ciudad_id\"]\n",
    "del df[\"comuna_id\"]"
   ]
  },
  {
   "cell_type": "markdown",
   "metadata": {},
   "source": [
    "Finalmente se elimina la variable *Unnamed* debido a la falta de información de lo que señala esta variable"
   ]
  },
  {
   "cell_type": "code",
   "execution_count": 20,
   "metadata": {},
   "outputs": [],
   "source": [
    "del df[\"Unnamed: 0\"]"
   ]
  },
  {
   "cell_type": "code",
   "execution_count": 21,
   "metadata": {},
   "outputs": [
    {
     "name": "stdout",
     "output_type": "stream",
     "text": [
      "<class 'pandas.core.frame.DataFrame'>\n",
      "Int64Index: 52337 entries, 0 to 52393\n",
      "Data columns (total 15 columns):\n",
      " #   Column          Non-Null Count  Dtype  \n",
      "---  ------          --------------  -----  \n",
      " 0   edad            52337 non-null  int64  \n",
      " 1   ingr_liquido    52337 non-null  int64  \n",
      " 2   comuna          52337 non-null  object \n",
      " 3   ciudad          52337 non-null  object \n",
      " 4   region          52337 non-null  int64  \n",
      " 5   genero          52337 non-null  int64  \n",
      " 6   cond_civ        52337 non-null  int64  \n",
      " 7   antig_client    52337 non-null  int64  \n",
      " 8   auto            52337 non-null  int64  \n",
      " 9   p_avaluo_total  52337 non-null  float64\n",
      " 10  marca_malo      52337 non-null  float64\n",
      " 11  dconsumo        52337 non-null  float64\n",
      " 12  lincred         52337 non-null  float64\n",
      " 13  dhipotecario    52337 non-null  float64\n",
      " 14  num_Inst        52337 non-null  float64\n",
      "dtypes: float64(6), int64(7), object(2)\n",
      "memory usage: 6.4+ MB\n"
     ]
    }
   ],
   "source": [
    "df.info()"
   ]
  },
  {
   "cell_type": "code",
   "execution_count": 22,
   "metadata": {},
   "outputs": [
    {
     "data": {
      "text/plain": [
       "351"
      ]
     },
     "execution_count": 22,
     "metadata": {},
     "output_type": "execute_result"
    }
   ],
   "source": [
    "len(df[\"ciudad\"].value_counts())+len(df[\"comuna\"].value_counts())"
   ]
  },
  {
   "cell_type": "markdown",
   "metadata": {},
   "source": [
    "Ahora en el caso de comuna y ciudad, nos percatamos de que son variables de tipo object-categoricas pero que son nominales, por lo tanto, se debería aplicar un método denominado One-Hot Encoding, pero esto implicaría agregar 351 variables, por lo tanto, se toma la decisión de eliminar dichas variables. "
   ]
  },
  {
   "cell_type": "code",
   "execution_count": 23,
   "metadata": {},
   "outputs": [],
   "source": [
    "del df[\"ciudad\"]\n",
    "del df[\"comuna\"]"
   ]
  },
  {
   "cell_type": "code",
   "execution_count": 24,
   "metadata": {},
   "outputs": [
    {
     "data": {
      "text/html": [
       "<div>\n",
       "<style scoped>\n",
       "    .dataframe tbody tr th:only-of-type {\n",
       "        vertical-align: middle;\n",
       "    }\n",
       "\n",
       "    .dataframe tbody tr th {\n",
       "        vertical-align: top;\n",
       "    }\n",
       "\n",
       "    .dataframe thead th {\n",
       "        text-align: right;\n",
       "    }\n",
       "</style>\n",
       "<table border=\"1\" class=\"dataframe\">\n",
       "  <thead>\n",
       "    <tr style=\"text-align: right;\">\n",
       "      <th></th>\n",
       "      <th>edad</th>\n",
       "      <th>ingr_liquido</th>\n",
       "      <th>region</th>\n",
       "      <th>genero</th>\n",
       "      <th>cond_civ</th>\n",
       "      <th>antig_client</th>\n",
       "      <th>auto</th>\n",
       "      <th>p_avaluo_total</th>\n",
       "      <th>marca_malo</th>\n",
       "      <th>dconsumo</th>\n",
       "      <th>lincred</th>\n",
       "      <th>dhipotecario</th>\n",
       "      <th>num_Inst</th>\n",
       "    </tr>\n",
       "  </thead>\n",
       "  <tbody>\n",
       "    <tr>\n",
       "      <th>0</th>\n",
       "      <td>51</td>\n",
       "      <td>890869</td>\n",
       "      <td>13</td>\n",
       "      <td>1</td>\n",
       "      <td>3</td>\n",
       "      <td>8</td>\n",
       "      <td>1</td>\n",
       "      <td>123350160.0</td>\n",
       "      <td>0.0</td>\n",
       "      <td>25506000.0</td>\n",
       "      <td>54258000.0</td>\n",
       "      <td>144142000.0</td>\n",
       "      <td>3.0</td>\n",
       "    </tr>\n",
       "    <tr>\n",
       "      <th>1</th>\n",
       "      <td>58</td>\n",
       "      <td>843262</td>\n",
       "      <td>13</td>\n",
       "      <td>2</td>\n",
       "      <td>1</td>\n",
       "      <td>5</td>\n",
       "      <td>1</td>\n",
       "      <td>29729305.0</td>\n",
       "      <td>0.0</td>\n",
       "      <td>3746000.0</td>\n",
       "      <td>5837000.0</td>\n",
       "      <td>20796000.0</td>\n",
       "      <td>1.0</td>\n",
       "    </tr>\n",
       "  </tbody>\n",
       "</table>\n",
       "</div>"
      ],
      "text/plain": [
       "   edad  ingr_liquido  region  genero  cond_civ  antig_client  auto  \\\n",
       "0    51        890869      13       1         3             8     1   \n",
       "1    58        843262      13       2         1             5     1   \n",
       "\n",
       "   p_avaluo_total  marca_malo    dconsumo     lincred  dhipotecario  num_Inst  \n",
       "0     123350160.0         0.0  25506000.0  54258000.0   144142000.0       3.0  \n",
       "1      29729305.0         0.0   3746000.0   5837000.0    20796000.0       1.0  "
      ]
     },
     "execution_count": 24,
     "metadata": {},
     "output_type": "execute_result"
    }
   ],
   "source": [
    "df.head(2)"
   ]
  },
  {
   "cell_type": "markdown",
   "metadata": {},
   "source": [
    "## Analisis descriptivo de las variables"
   ]
  },
  {
   "cell_type": "code",
   "execution_count": 25,
   "metadata": {},
   "outputs": [],
   "source": [
    "#Definimos una funcion que nos entregue un analisis descriptivo de cada variable (obviamente numerica)\n",
    "def analisis(D):\n",
    "    minimo = np.min(D)\n",
    "    maximo = np.max(D)\n",
    "    desviacion_estandar = np.std(D)\n",
    "    cuartil_1 = np.quantile(D,0.25)\n",
    "    cuartil_2 = np.quantile(D,0.5)\n",
    "    cuartil_3 = np.quantile(D, 0.75)\n",
    "    promedio = np.mean(D)\n",
    "    return minimo, maximo, desviacion_estandar, promedio, cuartil_1, cuartil_2, cuartil_3\n"
   ]
  },
  {
   "cell_type": "code",
   "execution_count": 26,
   "metadata": {},
   "outputs": [
    {
     "name": "stdout",
     "output_type": "stream",
     "text": [
      "Edad:\n",
      " Minimo: 23; Máximo: 66; Desviación Estandar: 8.802746251760976; Promedio: 42.650973498672066; Q1: 36.0; Q2: 41.0; Q3:48.0\n",
      "Ingreso Líquido:\n",
      " Mínimo: 251691; Máximo: 81077808; Desviación Estandar: 1684318.6985907892; Promedio: 1828985.5945124864; Q1: 881476.0; Q2: 1384449.0; Q3:2271884.0\n",
      "Cond Civil:\n",
      " Mínimo: 1; Máximo: 3; Desviación Estandar: 0.7680754448694173; Promedio: 1.7176185108049755; Q1: 1.0; Q2: 2.0; Q3:2.0\n",
      "Antiguedad:\n",
      " Mínimo: 0; Máximo: 25; Desviación Estandar: 3.7247510768386936; Promedio: 2.344918508894281; Q1: 0.0; Q2: 0.0; Q3:4.0\n",
      "Avaluo Propiedad:\n",
      " Mínimo: 0.0; Máximo: 950551028.0; Desviación Estandar: 48485751.0476414; Promedio: 29373624.274108183; Q1: 0.0; Q2: 15798038.0; Q3:39190263.0\n",
      "Deuda consumo:\n",
      " Mínimo: 0.0; Máximo: 501724000.0; Desviación Estandar: 20152847.883481815; Promedio: 12892207.558706079; Q1: 1504000.0; Q2: 6135000.0; Q3:15983000.0\n",
      "Linea Credito:\n",
      " Mínimo: 0.0; Máximo: 437439000.0; Desviación Estandar: 18759231.008408763; Promedio: 15943977.186311787; Q1: 4122000.0; Q2: 9891000.0; Q3:20827000.0\n",
      "Deuda Hipoteca:\n",
      " Mínimo: 0.0; Máximo: 1286695000.0; Desviación Estandar: 63024298.17741032; Promedio: 54683721.49721994; Q1: 17432000.0; Q2: 40018000.0; Q3:71298000.0\n",
      "Auto:\n",
      " Mínimo: 0; Máximo: 1; Desviación Estandar: 0.4966802624151851; Promedio: 0.5575214475418919; Q1: 0.0; Q2: 1.0; Q3:1.0\n"
     ]
    }
   ],
   "source": [
    "minimo, maximo, desviacion_estandar, promedio, cuartil_1, cuartil_2, cuartil_3 = analisis(df[\"edad\"])\n",
    "print(f\"Edad:\\n Minimo: {minimo}; Máximo: {maximo}; Desviación Estandar: {desviacion_estandar}; Promedio: {promedio}; Q1: {cuartil_1}; Q2: {cuartil_2}; Q3:{cuartil_3}\")\n",
    "\n",
    "minimo, maximo, desviacion_estandar, promedio, cuartil_1, cuartil_2, cuartil_3 = analisis(df[\"ingr_liquido\"])\n",
    "print(f\"Ingreso Líquido:\\n Mínimo: {minimo}; Máximo: {maximo}; Desviación Estandar: {desviacion_estandar}; Promedio: {promedio}; Q1: {cuartil_1}; Q2: {cuartil_2}; Q3:{cuartil_3}\")\n",
    "\n",
    "minimo, maximo, desviacion_estandar, promedio, cuartil_1, cuartil_2, cuartil_3 = analisis(df[\"cond_civ\"])\n",
    "print(f\"Cond Civil:\\n Mínimo: {minimo}; Máximo: {maximo}; Desviación Estandar: {desviacion_estandar}; Promedio: {promedio}; Q1: {cuartil_1}; Q2: {cuartil_2}; Q3:{cuartil_3}\")\n",
    "\n",
    "minimo, maximo, desviacion_estandar, promedio, cuartil_1, cuartil_2, cuartil_3 = analisis(df[\"antig_client\"])\n",
    "print(f\"Antiguedad:\\n Mínimo: {minimo}; Máximo: {maximo}; Desviación Estandar: {desviacion_estandar}; Promedio: {promedio}; Q1: {cuartil_1}; Q2: {cuartil_2}; Q3:{cuartil_3}\")\n",
    "\n",
    "minimo, maximo, desviacion_estandar, promedio, cuartil_1, cuartil_2, cuartil_3 = analisis(df[\"p_avaluo_total\"])\n",
    "print(f\"Avaluo Propiedad:\\n Mínimo: {minimo}; Máximo: {maximo}; Desviación Estandar: {desviacion_estandar}; Promedio: {promedio}; Q1: {cuartil_1}; Q2: {cuartil_2}; Q3:{cuartil_3}\")\n",
    "\n",
    "minimo, maximo, desviacion_estandar, promedio, cuartil_1, cuartil_2, cuartil_3 = analisis(df[\"dconsumo\"])\n",
    "print(f\"Deuda consumo:\\n Mínimo: {minimo}; Máximo: {maximo}; Desviación Estandar: {desviacion_estandar}; Promedio: {promedio}; Q1: {cuartil_1}; Q2: {cuartil_2}; Q3:{cuartil_3}\")\n",
    "\n",
    "minimo, maximo, desviacion_estandar, promedio, cuartil_1, cuartil_2, cuartil_3 = analisis(df[\"lincred\"])\n",
    "print(f\"Linea Credito:\\n Mínimo: {minimo}; Máximo: {maximo}; Desviación Estandar: {desviacion_estandar}; Promedio: {promedio}; Q1: {cuartil_1}; Q2: {cuartil_2}; Q3:{cuartil_3}\")\n",
    "\n",
    "minimo, maximo, desviacion_estandar, promedio, cuartil_1, cuartil_2, cuartil_3 = analisis(df[\"dhipotecario\"])\n",
    "print(f\"Deuda Hipoteca:\\n Mínimo: {minimo}; Máximo: {maximo}; Desviación Estandar: {desviacion_estandar}; Promedio: {promedio}; Q1: {cuartil_1}; Q2: {cuartil_2}; Q3:{cuartil_3}\")\n",
    "\n",
    "minimo, maximo, desviacion_estandar, promedio, cuartil_1, cuartil_2, cuartil_3 = analisis(df[\"auto\"])\n",
    "print(f\"Auto:\\n Mínimo: {minimo}; Máximo: {maximo}; Desviación Estandar: {desviacion_estandar}; Promedio: {promedio}; Q1: {cuartil_1}; Q2: {cuartil_2}; Q3:{cuartil_3}\")\n"
   ]
  },
  {
   "cell_type": "markdown",
   "metadata": {},
   "source": [
    "## Limpieza de outliers"
   ]
  },
  {
   "cell_type": "markdown",
   "metadata": {},
   "source": [
    "#### Box-Plots para identificar datos outliers"
   ]
  },
  {
   "cell_type": "code",
   "execution_count": 27,
   "metadata": {},
   "outputs": [
    {
     "data": {
      "text/plain": [
       "<AxesSubplot:ylabel='dhipotecario'>"
      ]
     },
     "execution_count": 27,
     "metadata": {},
     "output_type": "execute_result"
    },
    {
     "data": {
      "image/png": "[encoded data removed]",
      "text/plain": [
       "<Figure size 864x432 with 9 Axes>"
      ]
     },
     "metadata": {
      "needs_background": "light"
     },
     "output_type": "display_data"
    }
   ],
   "source": [
    "fig, axs = plt.subplots(3, 3, figsize=(12, 6))\n",
    "sns.boxplot(y=\"edad\", data=df, ax=axs[0,0])\n",
    "sns.boxplot(y=\"ingr_liquido\", data=df, ax=axs[0,1])\n",
    "sns.boxplot(y=\"antig_client\", data=df, ax=axs[1,0])\n",
    "sns.boxplot(y=\"p_avaluo_total\", data=df, ax=axs[1,1])\n",
    "sns.boxplot(y=\"dconsumo\", data=df, ax=axs[2,0])\n",
    "sns.boxplot(y=\"lincred\", data=df, ax=axs[2,1])\n",
    "sns.boxplot(y=\"dhipotecario\", data=df, ax=axs[2,2])"
   ]
  },
  {
   "cell_type": "code",
   "execution_count": 28,
   "metadata": {},
   "outputs": [
    {
     "data": {
      "text/plain": [
       "(52337, 13)"
      ]
     },
     "execution_count": 28,
     "metadata": {},
     "output_type": "execute_result"
    }
   ],
   "source": [
    "df_antiguo=df\n",
    "df_antiguo.shape"
   ]
  },
  {
   "cell_type": "markdown",
   "metadata": {},
   "source": [
    "Como se puede ver la unica varible que no presenta outliers es edad,por ende vamos calcular proceder a hacer una limpieza de outliers de las demás variables utilizando rangos intercuartiles."
   ]
  },
  {
   "cell_type": "code",
   "execution_count": 29,
   "metadata": {},
   "outputs": [],
   "source": [
    "#Definimos una función que nos devuelve los límites superiores e inferiores\n",
    "def limpieza_outliers(D):\n",
    "    #Cálculo de cuartiles\n",
    "    Q1 = D.quantile(0.25) #Cuartil 1\n",
    "    Q3 = D.quantile(0.75) #Cuartil 2\n",
    "    #Rango inter-cuartil\n",
    "    IQR = Q3-Q1\n",
    "    #Limite superior e inferior\n",
    "    lower_limit = Q1 - 1.5*IQR\n",
    "    upper_limit = Q3 + 1.5*IQR\n",
    "    #Devolvemos el limite superior e inferior para luego ingresarlo a la BBDD\n",
    "    return lower_limit, upper_limit"
   ]
  },
  {
   "cell_type": "code",
   "execution_count": 30,
   "metadata": {},
   "outputs": [
    {
     "data": {
      "text/plain": [
       "(52337, 13)"
      ]
     },
     "execution_count": 30,
     "metadata": {},
     "output_type": "execute_result"
    }
   ],
   "source": [
    "df.shape"
   ]
  },
  {
   "cell_type": "code",
   "execution_count": 31,
   "metadata": {},
   "outputs": [
    {
     "data": {
      "text/plain": [
       "(49513, 13)"
      ]
     },
     "execution_count": 31,
     "metadata": {},
     "output_type": "execute_result"
    }
   ],
   "source": [
    "#Limpieza de ouliers variable ingr_liquido\n",
    "lower_limit, upper_limit = limpieza_outliers(df[\"ingr_liquido\"])\n",
    "df = df[(df[\"ingr_liquido\"]>lower_limit) & (df[\"ingr_liquido\"]<upper_limit)]\n",
    "df.shape"
   ]
  },
  {
   "cell_type": "code",
   "execution_count": 32,
   "metadata": {},
   "outputs": [
    {
     "data": {
      "text/plain": [
       "(46383, 13)"
      ]
     },
     "execution_count": 32,
     "metadata": {},
     "output_type": "execute_result"
    }
   ],
   "source": [
    "#Limpieza de outliers para la variable antig_client\n",
    "lower_limit, upper_limit = limpieza_outliers(df[\"antig_client\"])\n",
    "df = df[(df[\"antig_client\"]>lower_limit) & (df[\"antig_client\"]<upper_limit)]\n",
    "df.shape"
   ]
  },
  {
   "cell_type": "code",
   "execution_count": 33,
   "metadata": {},
   "outputs": [
    {
     "data": {
      "text/plain": [
       "(43867, 13)"
      ]
     },
     "execution_count": 33,
     "metadata": {},
     "output_type": "execute_result"
    }
   ],
   "source": [
    "#Limpieza de outliers para la variable p_avaluo_total\n",
    "lower_limit, upper_limit = limpieza_outliers(df[\"p_avaluo_total\"])\n",
    "df = df[(df[\"p_avaluo_total\"]>lower_limit) & (df[\"p_avaluo_total\"]<upper_limit)]\n",
    "df.shape\n"
   ]
  },
  {
   "cell_type": "code",
   "execution_count": 34,
   "metadata": {},
   "outputs": [
    {
     "data": {
      "text/plain": [
       "(40824, 13)"
      ]
     },
     "execution_count": 34,
     "metadata": {},
     "output_type": "execute_result"
    }
   ],
   "source": [
    "#Limpieza de outliers para la variable dconsumo\n",
    "lower_limit, upper_limit = limpieza_outliers(df[\"dconsumo\"])\n",
    "df = df[(df[\"dconsumo\"]>lower_limit) & (df[\"dconsumo\"]<upper_limit)]\n",
    "df.shape"
   ]
  },
  {
   "cell_type": "code",
   "execution_count": 35,
   "metadata": {},
   "outputs": [
    {
     "data": {
      "text/plain": [
       "(38494, 13)"
      ]
     },
     "execution_count": 35,
     "metadata": {},
     "output_type": "execute_result"
    }
   ],
   "source": [
    "#Limpieza de outliers para la variable lincred\n",
    "lower_limit, upper_limit = limpieza_outliers(df[\"lincred\"])\n",
    "df = df[(df[\"lincred\"]>lower_limit) & (df[\"lincred\"]<upper_limit)]\n",
    "df.shape"
   ]
  },
  {
   "cell_type": "code",
   "execution_count": 36,
   "metadata": {},
   "outputs": [
    {
     "data": {
      "text/plain": [
       "(36854, 13)"
      ]
     },
     "execution_count": 36,
     "metadata": {},
     "output_type": "execute_result"
    }
   ],
   "source": [
    "#Limpieza de outliers para la variable dhipotecario\n",
    "lower_limit, upper_limit = limpieza_outliers(df[\"dhipotecario\"])\n",
    "df = df[(df[\"dhipotecario\"]>lower_limit) & (df[\"dhipotecario\"]<upper_limit)]\n",
    "df.shape"
   ]
  },
  {
   "cell_type": "code",
   "execution_count": 37,
   "metadata": {},
   "outputs": [
    {
     "data": {
      "text/plain": [
       "<AxesSubplot:ylabel='dhipotecario'>"
      ]
     },
     "execution_count": 37,
     "metadata": {},
     "output_type": "execute_result"
    },
    {
     "data": {
      "image/png": "[encoded data removed]",
      "text/plain": [
       "<Figure size 864x432 with 9 Axes>"
      ]
     },
     "metadata": {
      "needs_background": "light"
     },
     "output_type": "display_data"
    }
   ],
   "source": [
    "fig, axs = plt.subplots(3, 3, figsize=(12, 6))\n",
    "sns.boxplot(y=\"edad\", data=df, ax=axs[0,0])\n",
    "sns.boxplot(y=\"ingr_liquido\", data=df, ax=axs[0,1])\n",
    "sns.boxplot(y=\"antig_client\", data=df, ax=axs[1,0])\n",
    "sns.boxplot(y=\"p_avaluo_total\", data=df, ax=axs[1,1])\n",
    "sns.boxplot(y=\"dconsumo\", data=df, ax=axs[2,0])\n",
    "sns.boxplot(y=\"lincred\", data=df, ax=axs[2,1])\n",
    "sns.boxplot(y=\"dhipotecario\", data=df, ax=axs[2,2])"
   ]
  },
  {
   "cell_type": "markdown",
   "metadata": {},
   "source": [
    "Como se observa, disminuyó considerablemente la presencia de outliers, sin eliminar datos que nos desfavorecen."
   ]
  },
  {
   "cell_type": "code",
   "execution_count": 38,
   "metadata": {},
   "outputs": [
    {
     "data": {
      "text/plain": [
       "(52337, 36854)"
      ]
     },
     "execution_count": 38,
     "metadata": {},
     "output_type": "execute_result"
    }
   ],
   "source": [
    "df_antiguo.shape[0], df.shape[0]"
   ]
  },
  {
   "cell_type": "markdown",
   "metadata": {},
   "source": [
    "La base paso de tener 52 337 datos a 36 693 datos una disminución de casi el 30% de datos, los cuales estaban claramente fuera de lo normal, como se logra apreciar en los gráficos no se hizo una eliminación por completa de datos atípicos (que nos desfavorecen), ya que estos registros pertenecen al mundo real de datos a modelar."
   ]
  },
  {
   "cell_type": "markdown",
   "metadata": {},
   "source": [
    "# Analisis bivariante"
   ]
  },
  {
   "cell_type": "code",
   "execution_count": 39,
   "metadata": {},
   "outputs": [],
   "source": [
    "#Creación de variables\n",
    "# Ratio de endeudamiento\n",
    "df[\"Ratio endeudamiento\"]= df[\"dconsumo\"]/df[\"ingr_liquido\"]\n",
    "#Ratio de línea de crédito\n",
    "df[\"Ratio Linea de crédito\"]=df[\"lincred\"]/(df[\"lincred\"]+df[\"dconsumo\"])\n",
    "#Proxy Patrimonio\n",
    "df[\"Patrimonio\"]=df[\"p_avaluo_total\"]+df[\"ingr_liquido\"]+df[\"lincred\"]-(df[\"dconsumo\"]+df[\"dhipotecario\"])\n"
   ]
  },
  {
   "cell_type": "code",
   "execution_count": 40,
   "metadata": {},
   "outputs": [
    {
     "data": {
      "text/plain": [
       "edad                       0\n",
       "ingr_liquido               0\n",
       "region                     0\n",
       "genero                     0\n",
       "cond_civ                   0\n",
       "antig_client               0\n",
       "auto                       0\n",
       "p_avaluo_total             0\n",
       "marca_malo                 0\n",
       "dconsumo                   0\n",
       "lincred                    0\n",
       "dhipotecario               0\n",
       "num_Inst                   0\n",
       "Ratio endeudamiento        0\n",
       "Ratio Linea de crédito    29\n",
       "Patrimonio                 0\n",
       "dtype: int64"
      ]
     },
     "execution_count": 40,
     "metadata": {},
     "output_type": "execute_result"
    }
   ],
   "source": [
    "df.isnull().sum()"
   ]
  },
  {
   "cell_type": "markdown",
   "metadata": {},
   "source": [
    "Se observan 29 datos atípicos en la variable ratio línea de crédito, esto puede ser resultado de una division por 0, vamos a revisar si son clientes con *marca_malo* = 1, si no es el caso, se eliminaran."
   ]
  },
  {
   "cell_type": "code",
   "execution_count": 41,
   "metadata": {},
   "outputs": [
    {
     "data": {
      "text/plain": [
       "0.0    28\n",
       "1.0     1\n",
       "Name: marca_malo, dtype: int64"
      ]
     },
     "execution_count": 41,
     "metadata": {},
     "output_type": "execute_result"
    }
   ],
   "source": [
    "orlc = df[df[\"Ratio Linea de crédito\"].isnull()]\n",
    "orlc[\"marca_malo\"].value_counts()"
   ]
  },
  {
   "cell_type": "markdown",
   "metadata": {},
   "source": [
    "Como se observa, son mayoritariamente clientes buenos, por lo tanto, no afectarán de manera considerable el modelo si se eliminan, por lo tanto, los vamos a eliminar"
   ]
  },
  {
   "cell_type": "code",
   "execution_count": 42,
   "metadata": {},
   "outputs": [],
   "source": [
    "df = df.dropna(subset=[\"Ratio Linea de crédito\"])"
   ]
  },
  {
   "cell_type": "markdown",
   "metadata": {},
   "source": [
    "# Normalización de los datos"
   ]
  },
  {
   "cell_type": "code",
   "execution_count": 43,
   "metadata": {},
   "outputs": [
    {
     "data": {
      "text/html": [
       "<div>\n",
       "<style scoped>\n",
       "    .dataframe tbody tr th:only-of-type {\n",
       "        vertical-align: middle;\n",
       "    }\n",
       "\n",
       "    .dataframe tbody tr th {\n",
       "        vertical-align: top;\n",
       "    }\n",
       "\n",
       "    .dataframe thead th {\n",
       "        text-align: right;\n",
       "    }\n",
       "</style>\n",
       "<table border=\"1\" class=\"dataframe\">\n",
       "  <thead>\n",
       "    <tr style=\"text-align: right;\">\n",
       "      <th></th>\n",
       "      <th>edad</th>\n",
       "      <th>ingr_liquido</th>\n",
       "      <th>region</th>\n",
       "      <th>genero</th>\n",
       "      <th>cond_civ</th>\n",
       "      <th>antig_client</th>\n",
       "      <th>auto</th>\n",
       "      <th>p_avaluo_total</th>\n",
       "      <th>marca_malo</th>\n",
       "      <th>dconsumo</th>\n",
       "      <th>lincred</th>\n",
       "      <th>dhipotecario</th>\n",
       "      <th>num_Inst</th>\n",
       "      <th>Ratio endeudamiento</th>\n",
       "      <th>Ratio Linea de crédito</th>\n",
       "      <th>Patrimonio</th>\n",
       "    </tr>\n",
       "  </thead>\n",
       "  <tbody>\n",
       "    <tr>\n",
       "      <th>1</th>\n",
       "      <td>0.813953</td>\n",
       "      <td>0.144128</td>\n",
       "      <td>0.857143</td>\n",
       "      <td>1.0</td>\n",
       "      <td>0.0</td>\n",
       "      <td>0.555556</td>\n",
       "      <td>1.0</td>\n",
       "      <td>0.336909</td>\n",
       "      <td>0.0</td>\n",
       "      <td>0.112105</td>\n",
       "      <td>0.162351</td>\n",
       "      <td>0.169887</td>\n",
       "      <td>0.125</td>\n",
       "      <td>0.050265</td>\n",
       "      <td>0.609099</td>\n",
       "      <td>0.597196</td>\n",
       "    </tr>\n",
       "    <tr>\n",
       "      <th>2</th>\n",
       "      <td>0.465116</td>\n",
       "      <td>0.119460</td>\n",
       "      <td>1.000000</td>\n",
       "      <td>1.0</td>\n",
       "      <td>0.0</td>\n",
       "      <td>0.777778</td>\n",
       "      <td>0.0</td>\n",
       "      <td>0.000000</td>\n",
       "      <td>1.0</td>\n",
       "      <td>0.605985</td>\n",
       "      <td>0.010458</td>\n",
       "      <td>0.109108</td>\n",
       "      <td>0.250</td>\n",
       "      <td>0.308783</td>\n",
       "      <td>0.018230</td>\n",
       "      <td>0.426453</td>\n",
       "    </tr>\n",
       "    <tr>\n",
       "      <th>4</th>\n",
       "      <td>0.255814</td>\n",
       "      <td>0.161258</td>\n",
       "      <td>0.857143</td>\n",
       "      <td>1.0</td>\n",
       "      <td>0.5</td>\n",
       "      <td>0.333333</td>\n",
       "      <td>1.0</td>\n",
       "      <td>0.214360</td>\n",
       "      <td>0.0</td>\n",
       "      <td>0.513332</td>\n",
       "      <td>0.194949</td>\n",
       "      <td>0.368831</td>\n",
       "      <td>0.250</td>\n",
       "      <td>0.212450</td>\n",
       "      <td>0.290084</td>\n",
       "      <td>0.414993</td>\n",
       "    </tr>\n",
       "    <tr>\n",
       "      <th>6</th>\n",
       "      <td>0.744186</td>\n",
       "      <td>0.342598</td>\n",
       "      <td>0.857143</td>\n",
       "      <td>0.0</td>\n",
       "      <td>1.0</td>\n",
       "      <td>0.666667</td>\n",
       "      <td>0.0</td>\n",
       "      <td>0.024052</td>\n",
       "      <td>0.0</td>\n",
       "      <td>0.000389</td>\n",
       "      <td>0.592579</td>\n",
       "      <td>0.170205</td>\n",
       "      <td>0.125</td>\n",
       "      <td>0.000089</td>\n",
       "      <td>0.999390</td>\n",
       "      <td>0.567823</td>\n",
       "    </tr>\n",
       "    <tr>\n",
       "      <th>7</th>\n",
       "      <td>0.418605</td>\n",
       "      <td>0.658363</td>\n",
       "      <td>0.857143</td>\n",
       "      <td>0.0</td>\n",
       "      <td>1.0</td>\n",
       "      <td>0.222222</td>\n",
       "      <td>0.0</td>\n",
       "      <td>0.212541</td>\n",
       "      <td>0.0</td>\n",
       "      <td>0.310070</td>\n",
       "      <td>0.002781</td>\n",
       "      <td>0.257158</td>\n",
       "      <td>0.125</td>\n",
       "      <td>0.039688</td>\n",
       "      <td>0.009559</td>\n",
       "      <td>0.474402</td>\n",
       "    </tr>\n",
       "  </tbody>\n",
       "</table>\n",
       "</div>"
      ],
      "text/plain": [
       "       edad  ingr_liquido    region  genero  cond_civ  antig_client  auto  \\\n",
       "1  0.813953      0.144128  0.857143     1.0       0.0      0.555556   1.0   \n",
       "2  0.465116      0.119460  1.000000     1.0       0.0      0.777778   0.0   \n",
       "4  0.255814      0.161258  0.857143     1.0       0.5      0.333333   1.0   \n",
       "6  0.744186      0.342598  0.857143     0.0       1.0      0.666667   0.0   \n",
       "7  0.418605      0.658363  0.857143     0.0       1.0      0.222222   0.0   \n",
       "\n",
       "   p_avaluo_total  marca_malo  dconsumo   lincred  dhipotecario  num_Inst  \\\n",
       "1        0.336909         0.0  0.112105  0.162351      0.169887     0.125   \n",
       "2        0.000000         1.0  0.605985  0.010458      0.109108     0.250   \n",
       "4        0.214360         0.0  0.513332  0.194949      0.368831     0.250   \n",
       "6        0.024052         0.0  0.000389  0.592579      0.170205     0.125   \n",
       "7        0.212541         0.0  0.310070  0.002781      0.257158     0.125   \n",
       "\n",
       "   Ratio endeudamiento  Ratio Linea de crédito  Patrimonio  \n",
       "1             0.050265                0.609099    0.597196  \n",
       "2             0.308783                0.018230    0.426453  \n",
       "4             0.212450                0.290084    0.414993  \n",
       "6             0.000089                0.999390    0.567823  \n",
       "7             0.039688                0.009559    0.474402  "
      ]
     },
     "execution_count": 43,
     "metadata": {},
     "output_type": "execute_result"
    }
   ],
   "source": [
    "from sklearn.preprocessing import MinMaxScaler\n",
    "\n",
    "#Primero creamos un dataset que no contenga la variable objetivo\n",
    "df1 = df.copy() \n",
    "y = df[\"marca_malo\"] #En esta variable guardamos la variable objetivo\n",
    "\n",
    "\n",
    "scaler = MinMaxScaler() \n",
    "scaled_values = scaler.fit_transform(df1) \n",
    "df1.loc[:,:] = scaled_values\n",
    "df1.head()\n"
   ]
  },
  {
   "cell_type": "markdown",
   "metadata": {},
   "source": [
    "# Information Value (IV)"
   ]
  },
  {
   "cell_type": "markdown",
   "metadata": {},
   "source": [
    "Information Value, es un párametro que nos entrega la capacidad predictiva de cada variable de un dataset, en donde se definen parametros para identificar que tan buena es, por ejemplo menor a 0.02 es inútil para el modelo en cambio, un valor sobre 0.5 indica un gran poder predictivo."
   ]
  },
  {
   "cell_type": "markdown",
   "metadata": {},
   "source": [
    "Por términos de que en este curso no se profundizó en los términos de Information Value y Weight of evidence, se hizo uso de apoyo virtual para el cálculo de este párametro, la infromación fue sacada principalmente del siguiente foro:\n",
    "\n",
    "http://shichen.name/scorecard/\n"
   ]
  },
  {
   "cell_type": "code",
   "execution_count": 44,
   "metadata": {},
   "outputs": [],
   "source": [
    "# sc.iv(df1, y=\"marca_malo\")"
   ]
  },
  {
   "cell_type": "markdown",
   "metadata": {},
   "source": [
    "Como se observa, las variables *gse_id*, *genero*, *cond_civ*, *antig_cliente* y *auto* tienen un information value menor a 0.02 lo que nos indica que son variables que no son utiles para la predicción de la variable objetivo, en este caso, si el cliente es bueno o malo, por lo tanto, se toma la decisión de eliminar dichas variables."
   ]
  },
  {
   "cell_type": "code",
   "execution_count": 45,
   "metadata": {},
   "outputs": [],
   "source": [
    "del df1[\"genero\"]\n",
    "del df1[\"cond_civ\"]\n",
    "del df1[\"antig_client\"]\n",
    "del df1[\"auto\"]\n",
    "del df1[\"Patrimonio\"]"
   ]
  },
  {
   "cell_type": "markdown",
   "metadata": {},
   "source": [
    "Analogamente, las variables *p_avaluo_total*, *dconsumo* y *dhipotecario* tienen un nivel sospechosamente alto, lo que podría generar problemas de calibración y de confiabilidad en el modelo, por lo tanto, de igual manera las eliminaremos."
   ]
  },
  {
   "cell_type": "code",
   "execution_count": 46,
   "metadata": {},
   "outputs": [],
   "source": [
    "del df1[\"p_avaluo_total\"]\n",
    "del df1[\"dconsumo\"]\n",
    "del df1[\"dhipotecario\"]"
   ]
  },
  {
   "cell_type": "markdown",
   "metadata": {},
   "source": [
    "## Correlación de datos"
   ]
  },
  {
   "cell_type": "code",
   "execution_count": 47,
   "metadata": {},
   "outputs": [
    {
     "data": {
      "image/png": "[encoded data removed]",
      "text/plain": [
       "<Figure size 1440x864 with 2 Axes>"
      ]
     },
     "metadata": {
      "needs_background": "light"
     },
     "output_type": "display_data"
    }
   ],
   "source": [
    "fig, ax = plt.subplots(1, 1, figsize=(20,12))\n",
    "corr = df1.corr()\n",
    "sns.heatmap(corr,ax = ax, cmap='winter',annot=True)\n",
    "fig.subplots_adjust(top = 0.93)\n",
    "fig.suptitle('Correlaciones Variables data', fontsize=14,fontweight='bold')\n",
    "plt.show()"
   ]
  },
  {
   "cell_type": "markdown",
   "metadata": {},
   "source": [
    "Finalmente, se obtiene una base de datos sin datos claramente atípicos, con datos no \"tan\" correlacionados (<0.7), estandarizados, sin datos faltantes ni duplicados."
   ]
  },
  {
   "cell_type": "markdown",
   "metadata": {},
   "source": [
    "# Desbalanceo de clases"
   ]
  },
  {
   "cell_type": "code",
   "execution_count": 48,
   "metadata": {},
   "outputs": [
    {
     "data": {
      "text/plain": [
       "0.0    34914\n",
       "1.0     1911\n",
       "Name: marca_malo, dtype: int64"
      ]
     },
     "execution_count": 48,
     "metadata": {},
     "output_type": "execute_result"
    }
   ],
   "source": [
    "df[\"marca_malo\"].value_counts()"
   ]
  },
  {
   "cell_type": "code",
   "execution_count": 49,
   "metadata": {},
   "outputs": [
    {
     "data": {
      "text/plain": [
       "<AxesSubplot:xlabel='marca_malo', ylabel='Count'>"
      ]
     },
     "execution_count": 49,
     "metadata": {},
     "output_type": "execute_result"
    },
    {
     "data": {
      "image/png": "[encoded data removed]",
      "text/plain": [
       "<Figure size 432x288 with 1 Axes>"
      ]
     },
     "metadata": {
      "needs_background": "light"
     },
     "output_type": "display_data"
    }
   ],
   "source": [
    "sns.histplot(data=df, x =\"marca_malo\")"
   ]
  },
  {
   "cell_type": "markdown",
   "metadata": {},
   "source": [
    "Se aprecia una clara diferencia en la proporción de clases en primer lugar, la clase 0 posee cerca de un 95% de todos los registros, en cambio, la clase 1, tiene cerca de un 5% de registros, lo que generaría sesgamiento en los modelos a la hora de entrenarlos, por lo tanto se deben utilizar métodos como el oversampling o el undersampling para evitar el sesgo y predicciones erronéas."
   ]
  },
  {
   "cell_type": "markdown",
   "metadata": {},
   "source": [
    "# Creación de datasets de Oversampling y Undersampling"
   ]
  },
  {
   "cell_type": "markdown",
   "metadata": {},
   "source": [
    "### Partición de datos en datos de entrenamiento y datos de testeo"
   ]
  },
  {
   "cell_type": "code",
   "execution_count": 50,
   "metadata": {},
   "outputs": [],
   "source": [
    "#En primer lugar, eliminamos la variable objetivo del dataset de entrenamiento, recordar que en la variable \"y\" está la clase a predecir\n",
    "del df1[\"marca_malo\"]"
   ]
  },
  {
   "cell_type": "markdown",
   "metadata": {},
   "source": [
    "Se utilizara un 70% de los datos para entrenar los modelos y el 30% restante será para testear el modelo"
   ]
  },
  {
   "cell_type": "code",
   "execution_count": 51,
   "metadata": {},
   "outputs": [],
   "source": [
    "X_train, X_test, y_train, y_test = train_test_split(df1,y, test_size = 0.30, random_state = 42, stratify = y)"
   ]
  },
  {
   "cell_type": "markdown",
   "metadata": {},
   "source": [
    "## Oversampling"
   ]
  },
  {
   "cell_type": "markdown",
   "metadata": {},
   "source": [
    "Debido a que no se le dio un gran enfasis a este tópico, se hizo uso de contenido virtual para la realización del método, la cual fue sustraida del siguiente foro:\n",
    "https://machinelearningmastery.com/smote-oversampling-for-imbalanced-classification/"
   ]
  },
  {
   "cell_type": "code",
   "execution_count": 52,
   "metadata": {},
   "outputs": [
    {
     "name": "stdout",
     "output_type": "stream",
     "text": [
      "Antes del Oversampling el conteo de la clase '1' es: 1338\n",
      "Antes del Oversampling el conteo de la clase '0' es: 24439 \n",
      "\n",
      "Luego del Oversampling la dimension de X_train: (48878, 7)\n",
      "Luego del Oversampling la dimension de Y_train: (48878,) \n",
      "\n",
      "Luego del Oversampling el conteo de la clase '1' es: 24439\n",
      "Luego del Oversampling el conteo de la clase '0' es: 24439\n"
     ]
    }
   ],
   "source": [
    "print(\"Antes del Oversampling el conteo de la clase '1' es: {}\".format(sum(y_train == 1))) \n",
    "print(\"Antes del Oversampling el conteo de la clase '0' es: {} \\n\".format(sum(y_train == 0))) \n",
    "\n",
    "sm = SMOTE(random_state = 2) \n",
    "X_train_res, y_train_res = sm.fit_resample(X_train, y_train.ravel()) \n",
    "  \n",
    "print('Luego del Oversampling la dimension de X_train: {}'.format(X_train_res.shape)) \n",
    "print('Luego del Oversampling la dimension de Y_train: {} \\n'.format(y_train_res.shape)) \n",
    "  \n",
    "print(\"Luego del Oversampling el conteo de la clase '1' es: {}\".format(sum(y_train_res == 1))) \n",
    "print(\"Luego del Oversampling el conteo de la clase '0' es: {}\".format(sum(y_train_res == 0))) "
   ]
  },
  {
   "cell_type": "markdown",
   "metadata": {},
   "source": [
    "## Undersampling"
   ]
  },
  {
   "cell_type": "markdown",
   "metadata": {},
   "source": [
    "Se aplicaran dos métodos de UnderdSampling los cuales son aleatorio y NearMiss"
   ]
  },
  {
   "cell_type": "markdown",
   "metadata": {},
   "source": [
    "## Undersampling aleatorio"
   ]
  },
  {
   "cell_type": "markdown",
   "metadata": {},
   "source": [
    "Debido a que no se le dio un gran enfasis a este tópico, se hizo uso de contenido virtual para la realización del método, la cual fue sustraida del siguiente foro:\n",
    "https://medium.com/grabngoinfo/four-oversampling-and-under-sampling-methods-for-imbalanced-classification-using-python-7304aedf9037"
   ]
  },
  {
   "cell_type": "code",
   "execution_count": 53,
   "metadata": {},
   "outputs": [
    {
     "name": "stdout",
     "output_type": "stream",
     "text": [
      "Antes del Undersampling Aleatorio el conteo de la clase '1' es: 1338\n",
      "Antes del Undersampling Aleatorio el conteo de la clase '0' es: 24439 \n",
      "\n",
      "Luego del Undersampling Aleatorio la dimension de X_train: (2676, 7)\n",
      "Luego del Undersampling Aleatorio la dimension de Y_train: (2676,) \n",
      "\n",
      "Luego del Undersampling Aleatorio el conteo de la clase '1' es: 1338\n",
      "Luego del Undersampling Aleatorio el conteo de la clase '0' es: 1338\n"
     ]
    }
   ],
   "source": [
    "rus = RandomUnderSampler(random_state=42)\n",
    "X_train_rus, y_train_rus = rus.fit_resample(X_train, y_train)\n",
    "\n",
    "\n",
    "print(\"Antes del Undersampling Aleatorio el conteo de la clase '1' es: {}\".format(sum(y_train == 1))) \n",
    "print(\"Antes del Undersampling Aleatorio el conteo de la clase '0' es: {} \\n\".format(sum(y_train == 0))) \n",
    "  \n",
    "print('Luego del Undersampling Aleatorio la dimension de X_train: {}'.format(X_train_rus.shape)) \n",
    "print('Luego del Undersampling Aleatorio la dimension de Y_train: {} \\n'.format(y_train_rus.shape)) \n",
    "  \n",
    "print(\"Luego del Undersampling Aleatorio el conteo de la clase '1' es: {}\".format(sum(y_train_rus == 1))) \n",
    "print(\"Luego del Undersampling Aleatorio el conteo de la clase '0' es: {}\".format(sum(y_train_rus == 0))) "
   ]
  },
  {
   "cell_type": "markdown",
   "metadata": {},
   "source": [
    "## Undersampling NearMiss"
   ]
  },
  {
   "cell_type": "code",
   "execution_count": 54,
   "metadata": {},
   "outputs": [
    {
     "name": "stdout",
     "output_type": "stream",
     "text": [
      "Antes del Undersampling NearMiss el conteo de la clase '1' es: 1338\n",
      "Antes del Undersampling NearMiss el conteo de la clase '0' es: 24439 \n",
      "\n",
      "Luego del Undersampling NearMiss la dimension de X_train: (2676, 7)\n",
      "Luego del Undersampling NearMiss la dimension de Y_train: (2676,) \n",
      "\n",
      "Luego del Undersampling NearMiss el conteo de la clase '1' es: 1338\n",
      "Luego del Undersampling NearMiss el conteo de la clase '0' es: 1338\n"
     ]
    }
   ],
   "source": [
    "nearmiss = NearMiss(version=3)\n",
    "X_train_nearmiss, y_train_nearmiss= nearmiss.fit_resample(X_train, y_train)\n",
    "\n",
    "\n",
    "print(\"Antes del Undersampling NearMiss el conteo de la clase '1' es: {}\".format(sum(y_train == 1))) \n",
    "print(\"Antes del Undersampling NearMiss el conteo de la clase '0' es: {} \\n\".format(sum(y_train == 0))) \n",
    "  \n",
    "print('Luego del Undersampling NearMiss la dimension de X_train: {}'.format(X_train_nearmiss.shape)) \n",
    "print('Luego del Undersampling NearMiss la dimension de Y_train: {} \\n'.format(y_train_nearmiss.shape)) \n",
    "  \n",
    "print(\"Luego del Undersampling NearMiss el conteo de la clase '1' es: {}\".format(sum(y_train_nearmiss == 1))) \n",
    "print(\"Luego del Undersampling NearMiss el conteo de la clase '0' es: {}\".format(sum(y_train_nearmiss == 0))) "
   ]
  },
  {
   "cell_type": "markdown",
   "metadata": {},
   "source": [
    "# Modelos Predictivos"
   ]
  },
  {
   "cell_type": "markdown",
   "metadata": {},
   "source": [
    "# Regresion logistica"
   ]
  },
  {
   "cell_type": "markdown",
   "metadata": {},
   "source": [
    "El primer modelo a entrenar será regresión logistica, del cual obtendremos el mejor set de datos para entrenar los modelos más adelante, en otras palabras, se entrenará la regresión logistica con los 3 sets de datos, Oversampling SMOTE, Undersampling Aleatorio y Undersampling NearMiss, aquel que tenga mejor F1-score, será el set de datos a utilizar en el resto de los modelos"
   ]
  },
  {
   "cell_type": "code",
   "execution_count": 55,
   "metadata": {},
   "outputs": [],
   "source": [
    "from sklearn.linear_model import LogisticRegression\n",
    "from sklearn import metrics\n",
    "from sklearn.model_selection import GridSearchCV"
   ]
  },
  {
   "cell_type": "code",
   "execution_count": 56,
   "metadata": {},
   "outputs": [],
   "source": [
    "#instanciamos el modelo\n",
    "log_regression = LogisticRegression()"
   ]
  },
  {
   "cell_type": "code",
   "execution_count": 57,
   "metadata": {},
   "outputs": [
    {
     "name": "stdout",
     "output_type": "stream",
     "text": [
      "              precision    recall  f1-score   support\n",
      "\n",
      "         0.0       0.98      0.66      0.79     10475\n",
      "         1.0       0.10      0.70      0.18       573\n",
      "\n",
      "    accuracy                           0.66     11048\n",
      "   macro avg       0.54      0.68      0.48     11048\n",
      "weighted avg       0.93      0.66      0.76     11048\n",
      " [[6918 3557]\n",
      " [ 174  399]]\n"
     ]
    }
   ],
   "source": [
    "#Oversampling SMOTE\n",
    "log_regression = log_regression.fit(X_train_res,y_train_res)\n",
    "prediccion = log_regression.predict(X_test)\n",
    "\n",
    "print(classification_report(y_test,prediccion), confusion_matrix(y_test,prediccion))"
   ]
  },
  {
   "cell_type": "code",
   "execution_count": 58,
   "metadata": {},
   "outputs": [
    {
     "name": "stdout",
     "output_type": "stream",
     "text": [
      "              precision    recall  f1-score   support\n",
      "\n",
      "         0.0       0.98      0.65      0.78     10475\n",
      "         1.0       0.10      0.70      0.17       573\n",
      "\n",
      "    accuracy                           0.66     11048\n",
      "   macro avg       0.54      0.68      0.48     11048\n",
      "weighted avg       0.93      0.66      0.75     11048\n",
      " [[6858 3617]\n",
      " [ 173  400]]\n"
     ]
    }
   ],
   "source": [
    "#Undersampling aleatorio\n",
    "log_regression = log_regression.fit(X_train_rus,y_train_rus)\n",
    "prediccion = log_regression.predict(X_test)\n",
    "\n",
    "print(classification_report(y_test,prediccion), confusion_matrix(y_test,prediccion))"
   ]
  },
  {
   "cell_type": "code",
   "execution_count": 59,
   "metadata": {},
   "outputs": [
    {
     "name": "stdout",
     "output_type": "stream",
     "text": [
      "              precision    recall  f1-score   support\n",
      "\n",
      "         0.0       0.96      0.44      0.60     10475\n",
      "         1.0       0.06      0.69      0.12       573\n",
      "\n",
      "    accuracy                           0.45     11048\n",
      "   macro avg       0.51      0.56      0.36     11048\n",
      "weighted avg       0.92      0.45      0.58     11048\n",
      " [[4573 5902]\n",
      " [ 177  396]]\n"
     ]
    }
   ],
   "source": [
    "#Undersampling NearMiss\n",
    "log_regression = log_regression.fit(X_train_nearmiss,y_train_nearmiss)\n",
    "prediccion = log_regression.predict(X_test)\n",
    "\n",
    "print(classification_report(y_test,prediccion), confusion_matrix(y_test,prediccion))"
   ]
  },
  {
   "cell_type": "markdown",
   "metadata": {},
   "source": [
    "Se observa un mejor F1-Score con el set de datos Oversampling con SMOTE, por lo tanto a partir de ahora, ese será el set de datos con cual entrenaremos los modelos"
   ]
  },
  {
   "cell_type": "code",
   "execution_count": 60,
   "metadata": {},
   "outputs": [],
   "source": [
    "#paramentro nesesario para hipermetrizar\n",
    "rl_params ={\n",
    "    'penalty': ['l1', 'l2', 'elasticnet', None],\n",
    "    'C': np.logspace(-3,3,7),\n",
    "    'solver': ['lbfgs','newton-cg','liblinear','sag','saga'],\n",
    "}\n",
    "\n",
    "RL = LogisticRegression()\n",
    "\n",
    "grid_search = GridSearchCV(estimator=RL, param_grid=rl_params, n_jobs=-1, cv=10, scoring = 'f1', return_train_score=True)\n",
    "grid_rl = grid_search.fit(X_train_res,y_train_res)"
   ]
  },
  {
   "cell_type": "code",
   "execution_count": 61,
   "metadata": {},
   "outputs": [],
   "source": [
    "model_metrics = pd.DataFrame(columns=['model','F1-score','Recall','Precision','Accuracy','ROC'])\n",
    "prediccion_rl = grid_rl.predict(X_test)\n",
    "metricas_rl = ['Regresion lineal', \n",
    "                f1_score(y_test,prediccion_rl),\n",
    "                recall_score(y_test,prediccion_rl),\n",
    "                precision_score(y_test, prediccion_rl),\n",
    "                accuracy_score(y_test,prediccion_rl),\n",
    "                roc_auc_score(y_test,grid_rl.predict_proba(X_test)[:,1])]\n",
    "\n",
    "model_metrics = model_metrics.append(pd.Series(metricas_rl, index=model_metrics.columns), ignore_index=True)"
   ]
  },
  {
   "cell_type": "markdown",
   "metadata": {},
   "source": [
    "# KNN\n"
   ]
  },
  {
   "cell_type": "code",
   "execution_count": 62,
   "metadata": {},
   "outputs": [],
   "source": [
    "#Importamos librerías\n",
    "from sklearn.neighbors import KNeighborsClassifier"
   ]
  },
  {
   "cell_type": "markdown",
   "metadata": {},
   "source": [
    "### Aplicando el modelo en datos Oversampleados"
   ]
  },
  {
   "cell_type": "code",
   "execution_count": 63,
   "metadata": {},
   "outputs": [
    {
     "name": "stdout",
     "output_type": "stream",
     "text": [
      "              precision    recall  f1-score   support\n",
      "\n",
      "         0.0       0.96      0.80      0.87     10475\n",
      "         1.0       0.08      0.33      0.13       573\n",
      "\n",
      "    accuracy                           0.78     11048\n",
      "   macro avg       0.52      0.57      0.50     11048\n",
      "weighted avg       0.91      0.78      0.83     11048\n",
      " [[8389 2086]\n",
      " [ 382  191]]\n"
     ]
    }
   ],
   "source": [
    "KNN = KNeighborsClassifier()\n",
    "KNN = KNN.fit(X_train_res, y_train_res)\n",
    "\n",
    "prediccion = KNN.predict(X_test)\n",
    "\n",
    "print(classification_report(y_test,prediccion), confusion_matrix(y_test,prediccion))"
   ]
  },
  {
   "cell_type": "code",
   "execution_count": 64,
   "metadata": {},
   "outputs": [],
   "source": [
    "# Busqueda de parametros de KNN\n",
    "\n",
    "knn_params = {\n",
    "    \"n_neighbors\": range(1,30,2),\n",
    "    \"weights\": [\"uniform\",\"distance\"],\n",
    "    \"metric\": [\"euclidean\",\"manhattan\",\"minkowski\"],\n",
    "}\n",
    "\n",
    "KNN = KNeighborsClassifier()\n",
    "\n",
    "\n",
    "#GridSearchCV\n",
    "grid_search_knn = GridSearchCV(estimator=KNN, param_grid=knn_params, n_jobs=-1, cv=10, scoring = 'f1', return_train_score=True)\n",
    "grid_knn = grid_search_knn.fit(X_train_res,y_train_res)"
   ]
  },
  {
   "cell_type": "code",
   "execution_count": 65,
   "metadata": {},
   "outputs": [],
   "source": [
    "prediccion_knn = grid_knn.predict(X_test)\n",
    "metricas_knn = ['KNN', \n",
    "                f1_score(y_test,prediccion_knn),\n",
    "                recall_score(y_test,prediccion_knn),\n",
    "                precision_score(y_test, prediccion_knn),\n",
    "                accuracy_score(y_test,prediccion_knn),\n",
    "                roc_auc_score(y_test,grid_knn.predict_proba(X_test)[:,1])]\n",
    "\n",
    "model_metrics = model_metrics.append(pd.Series(metricas_knn, index=model_metrics.columns), ignore_index=True)"
   ]
  },
  {
   "cell_type": "markdown",
   "metadata": {},
   "source": [
    "# Arbol de decisión"
   ]
  },
  {
   "cell_type": "markdown",
   "metadata": {},
   "source": [
    "### Árbol de decisión con datos balanceados mediante el método de Oversampling"
   ]
  },
  {
   "cell_type": "code",
   "execution_count": 66,
   "metadata": {},
   "outputs": [
    {
     "name": "stdout",
     "output_type": "stream",
     "text": [
      "              precision    recall  f1-score   support\n",
      "\n",
      "         0.0       0.96      0.81      0.88     10475\n",
      "         1.0       0.12      0.46      0.19       573\n",
      "\n",
      "    accuracy                           0.79     11048\n",
      "   macro avg       0.54      0.63      0.53     11048\n",
      "weighted avg       0.92      0.79      0.84     11048\n",
      "\n",
      "[[8470 2005]\n",
      " [ 309  264]]\n"
     ]
    }
   ],
   "source": [
    "from sklearn.tree import DecisionTreeClassifier\n",
    "\n",
    "AD = DecisionTreeClassifier(max_depth=10)\n",
    "AD = AD.fit(X_train_res,y_train_res)\n",
    "\n",
    "resultado = AD.predict(X_test)\n",
    "print(classification_report(y_test,resultado))\n",
    "print(confusion_matrix(y_test,resultado))"
   ]
  },
  {
   "cell_type": "code",
   "execution_count": 67,
   "metadata": {},
   "outputs": [],
   "source": [
    "# Buscamos los mejores parametros del arbol\n",
    "DT = DecisionTreeClassifier()\n",
    "\n",
    "dt_params = {\n",
    "    \"criterion\": [\"gini\",\"entropy\"],\n",
    "    \"max_depth\": [1,3,5,7,9,10,12,20,40,100,None],\n",
    "}\n",
    "\n",
    "grid_search_dt = GridSearchCV(estimator=DT, param_grid=dt_params, n_jobs=-1, cv=10, scoring='f1', return_train_score=True)\n",
    "grid_dt = grid_search_dt.fit(X_train_res,y_train_res)"
   ]
  },
  {
   "cell_type": "code",
   "execution_count": 68,
   "metadata": {},
   "outputs": [],
   "source": [
    "prediccion_dt = grid_dt.predict(X_test)\n",
    "metricas_dt = ['Arbol de Decision', \n",
    "                f1_score(y_test,prediccion_dt),\n",
    "                recall_score(y_test,prediccion_dt),\n",
    "                precision_score(y_test, prediccion_dt),\n",
    "                accuracy_score(y_test,prediccion_dt),\n",
    "                roc_auc_score(y_test,grid_dt.predict_proba(X_test)[:,1])]\n",
    "\n",
    "model_metrics = model_metrics.append(pd.Series(metricas_dt, index=model_metrics.columns), ignore_index=True)"
   ]
  },
  {
   "cell_type": "markdown",
   "metadata": {},
   "source": [
    "# Naive Bayes"
   ]
  },
  {
   "cell_type": "code",
   "execution_count": 69,
   "metadata": {},
   "outputs": [
    {
     "name": "stdout",
     "output_type": "stream",
     "text": [
      "              precision    recall  f1-score   support\n",
      "\n",
      "         0.0       0.95      0.96      0.96     10475\n",
      "         1.0       0.18      0.16      0.17       573\n",
      "\n",
      "    accuracy                           0.92     11048\n",
      "   macro avg       0.57      0.56      0.56     11048\n",
      "weighted avg       0.91      0.92      0.92     11048\n",
      "\n",
      "[[10061   414]\n",
      " [  484    89]]\n"
     ]
    }
   ],
   "source": [
    "from sklearn.naive_bayes import GaussianNB\n",
    "NB = GaussianNB()\n",
    "NB = NB.fit(X_train,y_train)\n",
    "resultado = NB.predict(X_test)\n",
    "print(classification_report(y_test,resultado))\n",
    "print(confusion_matrix(y_test,resultado))"
   ]
  },
  {
   "cell_type": "code",
   "execution_count": 70,
   "metadata": {},
   "outputs": [],
   "source": [
    "param_grid_nb = {\n",
    "    'var_smoothing': np.logspace(0,-9, num=100)\n",
    "}\n",
    "\n",
    "grid_search_nb = GridSearchCV(estimator=NB, param_grid=param_grid_nb, n_jobs=-1, cv=10, scoring='f1', return_train_score=True)\n",
    "grid_nb = grid_search_nb.fit(X_train_res,y_train_res)"
   ]
  },
  {
   "cell_type": "code",
   "execution_count": 71,
   "metadata": {},
   "outputs": [],
   "source": [
    "prediccion_nb = grid_nb.predict(X_test)\n",
    "metricas_nb = ['Naive Bayes', \n",
    "                f1_score(y_test,prediccion_nb),\n",
    "                recall_score(y_test,prediccion_nb),\n",
    "                precision_score(y_test, prediccion_nb),\n",
    "                accuracy_score(y_test,prediccion_nb),\n",
    "                roc_auc_score(y_test,grid_nb.predict_proba(X_test)[:,1])]\n",
    "\n",
    "model_metrics = model_metrics.append(pd.Series(metricas_nb, index=model_metrics.columns), ignore_index=True)"
   ]
  },
  {
   "cell_type": "markdown",
   "metadata": {},
   "source": [
    "# Super Vector Machine"
   ]
  },
  {
   "cell_type": "code",
   "execution_count": 72,
   "metadata": {},
   "outputs": [],
   "source": [
    "from sklearn.svm import SVC"
   ]
  },
  {
   "cell_type": "code",
   "execution_count": 73,
   "metadata": {},
   "outputs": [
    {
     "name": "stdout",
     "output_type": "stream",
     "text": [
      "              precision    recall  f1-score   support\n",
      "\n",
      "         0.0       0.98      0.65      0.78     10475\n",
      "         1.0       0.10      0.71      0.17       573\n",
      "\n",
      "    accuracy                           0.65     11048\n",
      "   macro avg       0.54      0.68      0.48     11048\n",
      "weighted avg       0.93      0.65      0.75     11048\n",
      "\n",
      "[[6782 3693]\n",
      " [ 167  406]]\n"
     ]
    }
   ],
   "source": [
    "SVModel=SVC()\n",
    "SVModel = SVModel.fit(X_train_res, y_train_res)\n",
    "prediccion = SVModel.predict(X_test)\n",
    "print(classification_report(y_test,prediccion))\n",
    "print(confusion_matrix(y_test,prediccion))"
   ]
  },
  {
   "cell_type": "code",
   "execution_count": 74,
   "metadata": {},
   "outputs": [],
   "source": [
    "#econtrar el mejor paramentro\n",
    "SVM = SVC(probability=True)\n",
    "\n",
    "svm_params = {\n",
    "    \"kernel\": ['linear', 'poly', 'rbf', 'sigmoid'],\n",
    "    \"C\": np.arange(1,52,10),\n",
    "    \"gamma\": ['auto', 'scale']       \n",
    "}\n",
    "\n",
    "\n",
    "grid_search_svm = RandomizedSearchCV(estimator=SVM, param_distributions=svm_params, n_jobs=-1, cv=10, scoring='f1', return_train_score=True)\n",
    "grid_svm = grid_search_svm.fit(X_train_res,y_train_res)"
   ]
  },
  {
   "cell_type": "code",
   "execution_count": 75,
   "metadata": {},
   "outputs": [],
   "source": [
    "prediccion_svm = grid_svm.predict(X_test)\n",
    "metricas_svm = ['SVM', \n",
    "                f1_score(y_test,prediccion_svm),\n",
    "                recall_score(y_test,prediccion_svm),\n",
    "                precision_score(y_test, prediccion_svm),\n",
    "                accuracy_score(y_test,prediccion_svm),\n",
    "                roc_auc_score(y_test,grid_svm.predict_proba(X_test)[:,1])]\n",
    "\n",
    "model_metrics = model_metrics.append(pd.Series(metricas_svm, index=model_metrics.columns), ignore_index=True)"
   ]
  },
  {
   "cell_type": "markdown",
   "metadata": {},
   "source": [
    "# Ensambles"
   ]
  },
  {
   "cell_type": "markdown",
   "metadata": {},
   "source": [
    "## Random Forest"
   ]
  },
  {
   "cell_type": "code",
   "execution_count": 76,
   "metadata": {},
   "outputs": [
    {
     "name": "stdout",
     "output_type": "stream",
     "text": [
      "              precision    recall  f1-score   support\n",
      "\n",
      "         0.0       0.95      0.94      0.95     10475\n",
      "         1.0       0.13      0.16      0.14       573\n",
      "\n",
      "    accuracy                           0.90     11048\n",
      "   macro avg       0.54      0.55      0.55     11048\n",
      "weighted avg       0.91      0.90      0.91     11048\n",
      "\n",
      "[[9883  592]\n",
      " [ 482   91]]\n"
     ]
    }
   ],
   "source": [
    "from sklearn.ensemble import RandomForestClassifier\n",
    "RF = RandomForestClassifier()\n",
    "RF = RF.fit(X_train_res,y_train_res)\n",
    "\n",
    "prediccion = RF.predict(X_test)\n",
    "print(classification_report(y_test,prediccion))\n",
    "print(confusion_matrix(y_test,prediccion))"
   ]
  },
  {
   "cell_type": "code",
   "execution_count": 77,
   "metadata": {},
   "outputs": [],
   "source": [
    "#Busqueda de parametros RandomForest\n",
    "params_rf = {\n",
    "    'n_estimators': [int(x) for x in np.linspace(start=10, stop=80, num=10)],\n",
    "    'max_features': ['auto', 'sqrt'],\n",
    "    'max_depth' : [2,4,6,8],\n",
    "    'min_samples_leaf': [1,2],\n",
    "    'criterion': ['gini','entropy'],\n",
    "    'bootstrap' : [True, False]       \n",
    "}\n",
    "\n",
    "f1_scorer = make_scorer(f1_score) \n",
    "RF = RandomForestClassifier()\n",
    "\n",
    "grid_search_rf = RandomizedSearchCV(estimator=RF, param_distributions=params_rf, n_jobs=-1, cv=10, scoring='f1',return_train_score=True)\n",
    "grid_rf = grid_search_rf.fit(X_train_res, y_train_res)"
   ]
  },
  {
   "cell_type": "code",
   "execution_count": 78,
   "metadata": {},
   "outputs": [],
   "source": [
    "prediccion_rf = grid_rf.predict(X_test)\n",
    "metricas_rf = ['Random Forest', \n",
    "                f1_score(y_test,prediccion_rf),\n",
    "                recall_score(y_test,prediccion_rf),\n",
    "                precision_score(y_test, prediccion_rf),\n",
    "                accuracy_score(y_test,prediccion_rf),\n",
    "                roc_auc_score(y_test,grid_rf.predict_proba(X_test)[:,1])]\n",
    "\n",
    "model_metrics = model_metrics.append(pd.Series(metricas_rf, index=model_metrics.columns), ignore_index=True)"
   ]
  },
  {
   "cell_type": "markdown",
   "metadata": {},
   "source": [
    "## AdaBoostClassifier"
   ]
  },
  {
   "cell_type": "code",
   "execution_count": 79,
   "metadata": {},
   "outputs": [
    {
     "name": "stdout",
     "output_type": "stream",
     "text": [
      "              precision    recall  f1-score   support\n",
      "\n",
      "         0.0       0.95      0.90      0.93     10475\n",
      "         1.0       0.10      0.19      0.13       573\n",
      "\n",
      "    accuracy                           0.87     11048\n",
      "   macro avg       0.52      0.55      0.53     11048\n",
      "weighted avg       0.91      0.87      0.89     11048\n",
      "\n",
      "[[9468 1007]\n",
      " [ 466  107]]\n"
     ]
    }
   ],
   "source": [
    "#Aplicación del modelo\n",
    "from sklearn.ensemble import AdaBoostClassifier\n",
    "from sklearn.tree import DecisionTreeClassifier\n",
    "\n",
    "AB = AdaBoostClassifier(base_estimator = DecisionTreeClassifier())\n",
    "AB = AB.fit(X_train_res,y_train_res)\n",
    "\n",
    "prediccion = AB.predict(X_test)\n",
    "print(classification_report(y_test,prediccion))\n",
    "print(confusion_matrix(y_test,prediccion))"
   ]
  },
  {
   "cell_type": "code",
   "execution_count": 80,
   "metadata": {},
   "outputs": [],
   "source": [
    "#Búsqueda de los mejores parametros AdaBoost\n",
    "params= {\n",
    "    'n_estimators': [1,2,3,4,5,6,7,8,9,10,11,12,20,30,50,100,1000],\n",
    "}\n",
    "\n",
    "\n",
    "AB = AdaBoostClassifier()\n",
    "\n",
    "grid_search_ab = RandomizedSearchCV(estimator=AB, param_distributions=params, n_jobs=-1, cv=10, scoring='f1', return_train_score = True)\n",
    "grid_ab = grid_search_ab.fit(X_train_res,y_train_res)"
   ]
  },
  {
   "cell_type": "code",
   "execution_count": 81,
   "metadata": {},
   "outputs": [],
   "source": [
    "prediccion_ab = grid_ab.predict(X_test)\n",
    "metricas_ab = ['AdaBoost', \n",
    "                f1_score(y_test,prediccion_ab),\n",
    "                recall_score(y_test,prediccion_ab),\n",
    "                precision_score(y_test, prediccion_ab),\n",
    "                accuracy_score(y_test,prediccion_ab),\n",
    "                roc_auc_score(y_test,grid_ab.predict_proba(X_test)[:,1])]\n",
    "\n",
    "model_metrics = model_metrics.append(pd.Series(metricas_ab, index=model_metrics.columns), ignore_index=True)"
   ]
  },
  {
   "cell_type": "code",
   "execution_count": 82,
   "metadata": {},
   "outputs": [
    {
     "data": {
      "text/html": [
       "<div>\n",
       "<style scoped>\n",
       "    .dataframe tbody tr th:only-of-type {\n",
       "        vertical-align: middle;\n",
       "    }\n",
       "\n",
       "    .dataframe tbody tr th {\n",
       "        vertical-align: top;\n",
       "    }\n",
       "\n",
       "    .dataframe thead th {\n",
       "        text-align: right;\n",
       "    }\n",
       "</style>\n",
       "<table border=\"1\" class=\"dataframe\">\n",
       "  <thead>\n",
       "    <tr style=\"text-align: right;\">\n",
       "      <th></th>\n",
       "      <th>model</th>\n",
       "      <th>F1-score</th>\n",
       "      <th>Recall</th>\n",
       "      <th>Precision</th>\n",
       "      <th>Accuracy</th>\n",
       "      <th>ROC</th>\n",
       "    </tr>\n",
       "  </thead>\n",
       "  <tbody>\n",
       "    <tr>\n",
       "      <th>0</th>\n",
       "      <td>Regresion lineal</td>\n",
       "      <td>0.176354</td>\n",
       "      <td>0.696335</td>\n",
       "      <td>0.100962</td>\n",
       "      <td>0.662654</td>\n",
       "      <td>0.752577</td>\n",
       "    </tr>\n",
       "    <tr>\n",
       "      <th>1</th>\n",
       "      <td>KNN</td>\n",
       "      <td>0.117971</td>\n",
       "      <td>0.186736</td>\n",
       "      <td>0.086221</td>\n",
       "      <td>0.855177</td>\n",
       "      <td>0.539239</td>\n",
       "    </tr>\n",
       "    <tr>\n",
       "      <th>2</th>\n",
       "      <td>Arbol de Decision</td>\n",
       "      <td>0.132696</td>\n",
       "      <td>0.193717</td>\n",
       "      <td>0.100909</td>\n",
       "      <td>0.868664</td>\n",
       "      <td>0.549651</td>\n",
       "    </tr>\n",
       "    <tr>\n",
       "      <th>3</th>\n",
       "      <td>Naive Bayes</td>\n",
       "      <td>0.160872</td>\n",
       "      <td>0.746946</td>\n",
       "      <td>0.090143</td>\n",
       "      <td>0.595854</td>\n",
       "      <td>0.738995</td>\n",
       "    </tr>\n",
       "    <tr>\n",
       "      <th>4</th>\n",
       "      <td>SVM</td>\n",
       "      <td>0.173394</td>\n",
       "      <td>0.659686</td>\n",
       "      <td>0.099815</td>\n",
       "      <td>0.673787</td>\n",
       "      <td>0.714402</td>\n",
       "    </tr>\n",
       "    <tr>\n",
       "      <th>5</th>\n",
       "      <td>Random Forest</td>\n",
       "      <td>0.186198</td>\n",
       "      <td>0.600349</td>\n",
       "      <td>0.110186</td>\n",
       "      <td>0.727824</td>\n",
       "      <td>0.740577</td>\n",
       "    </tr>\n",
       "    <tr>\n",
       "      <th>6</th>\n",
       "      <td>AdaBoost</td>\n",
       "      <td>0.177557</td>\n",
       "      <td>0.21815</td>\n",
       "      <td>0.149701</td>\n",
       "      <td>0.895185</td>\n",
       "      <td>0.720762</td>\n",
       "    </tr>\n",
       "  </tbody>\n",
       "</table>\n",
       "</div>"
      ],
      "text/plain": [
       "               model  F1-score    Recall Precision  Accuracy       ROC\n",
       "0   Regresion lineal  0.176354  0.696335  0.100962  0.662654  0.752577\n",
       "1                KNN  0.117971  0.186736  0.086221  0.855177  0.539239\n",
       "2  Arbol de Decision  0.132696  0.193717  0.100909  0.868664  0.549651\n",
       "3        Naive Bayes  0.160872  0.746946  0.090143  0.595854  0.738995\n",
       "4                SVM  0.173394  0.659686  0.099815  0.673787  0.714402\n",
       "5      Random Forest  0.186198  0.600349  0.110186  0.727824  0.740577\n",
       "6           AdaBoost  0.177557   0.21815  0.149701  0.895185  0.720762"
      ]
     },
     "execution_count": 82,
     "metadata": {},
     "output_type": "execute_result"
    }
   ],
   "source": [
    "model_metrics"
   ]
  },
  {
   "cell_type": "markdown",
   "metadata": {},
   "source": [
    "# Resultado Final"
   ]
  },
  {
   "cell_type": "markdown",
   "metadata": {},
   "source": [
    "Como se observa el mejor F1-Score se obtiene del modelo Random Forest, por lo tanto, ese será el modelo con el que se harán las predicciones de SampleOTT"
   ]
  },
  {
   "cell_type": "markdown",
   "metadata": {},
   "source": [
    "Los mejores parametros para aplicar al modelo son los siguientes"
   ]
  },
  {
   "cell_type": "code",
   "execution_count": 83,
   "metadata": {},
   "outputs": [
    {
     "data": {
      "text/plain": [
       "{'n_estimators': 72,\n",
       " 'min_samples_leaf': 2,\n",
       " 'max_features': 'sqrt',\n",
       " 'max_depth': 8,\n",
       " 'criterion': 'gini',\n",
       " 'bootstrap': True}"
      ]
     },
     "execution_count": 83,
     "metadata": {},
     "output_type": "execute_result"
    }
   ],
   "source": [
    "grid_search_rf.best_params_"
   ]
  },
  {
   "cell_type": "markdown",
   "metadata": {},
   "source": [
    "# Prediccion Final SampleOTT"
   ]
  },
  {
   "cell_type": "code",
   "execution_count": 85,
   "metadata": {},
   "outputs": [
    {
     "data": {
      "text/html": [
       "<div>\n",
       "<style scoped>\n",
       "    .dataframe tbody tr th:only-of-type {\n",
       "        vertical-align: middle;\n",
       "    }\n",
       "\n",
       "    .dataframe tbody tr th {\n",
       "        vertical-align: top;\n",
       "    }\n",
       "\n",
       "    .dataframe thead th {\n",
       "        text-align: right;\n",
       "    }\n",
       "</style>\n",
       "<table border=\"1\" class=\"dataframe\">\n",
       "  <thead>\n",
       "    <tr style=\"text-align: right;\">\n",
       "      <th></th>\n",
       "      <th>Unnamed: 0</th>\n",
       "      <th>client</th>\n",
       "      <th>client_id</th>\n",
       "      <th>f_nac</th>\n",
       "      <th>edad</th>\n",
       "      <th>ingr_liquido</th>\n",
       "      <th>comuna</th>\n",
       "      <th>comuna_id</th>\n",
       "      <th>ciudad</th>\n",
       "      <th>ciudad_id</th>\n",
       "      <th>...</th>\n",
       "      <th>auto_marca_id</th>\n",
       "      <th>period_fabr</th>\n",
       "      <th>auto_tasacion</th>\n",
       "      <th>auto_tot_tas</th>\n",
       "      <th>num_auto</th>\n",
       "      <th>p_avaluo_total</th>\n",
       "      <th>dconsumo</th>\n",
       "      <th>lincred</th>\n",
       "      <th>dhipotecario</th>\n",
       "      <th>num_Inst</th>\n",
       "    </tr>\n",
       "  </thead>\n",
       "  <tbody>\n",
       "    <tr>\n",
       "      <th>0</th>\n",
       "      <td>36797</td>\n",
       "      <td>142669461</td>\n",
       "      <td>1141335</td>\n",
       "      <td>06-11-1965</td>\n",
       "      <td>50</td>\n",
       "      <td>805923</td>\n",
       "      <td>TALCAHUANO</td>\n",
       "      <td>277</td>\n",
       "      <td>CONCEPCION</td>\n",
       "      <td>14</td>\n",
       "      <td>...</td>\n",
       "      <td>NaN</td>\n",
       "      <td>NaN</td>\n",
       "      <td>NaN</td>\n",
       "      <td>NaN</td>\n",
       "      <td>NaN</td>\n",
       "      <td>27932680.0</td>\n",
       "      <td>813000.0</td>\n",
       "      <td>4041000.0</td>\n",
       "      <td>29651000.0</td>\n",
       "      <td>1.0</td>\n",
       "    </tr>\n",
       "    <tr>\n",
       "      <th>1</th>\n",
       "      <td>11886</td>\n",
       "      <td>23452836</td>\n",
       "      <td>187602</td>\n",
       "      <td>27-05-1966</td>\n",
       "      <td>49</td>\n",
       "      <td>3000000</td>\n",
       "      <td>SAN BERNARDO</td>\n",
       "      <td>246</td>\n",
       "      <td>SAN BERNARDO</td>\n",
       "      <td>41</td>\n",
       "      <td>...</td>\n",
       "      <td>NaN</td>\n",
       "      <td>NaN</td>\n",
       "      <td>NaN</td>\n",
       "      <td>NaN</td>\n",
       "      <td>NaN</td>\n",
       "      <td>96594660.0</td>\n",
       "      <td>23374000.0</td>\n",
       "      <td>6833000.0</td>\n",
       "      <td>0.0</td>\n",
       "      <td>2.0</td>\n",
       "    </tr>\n",
       "    <tr>\n",
       "      <th>2</th>\n",
       "      <td>30766</td>\n",
       "      <td>91666211</td>\n",
       "      <td>733309</td>\n",
       "      <td>19-12-1982</td>\n",
       "      <td>33</td>\n",
       "      <td>1076483</td>\n",
       "      <td>LO PRADO</td>\n",
       "      <td>130</td>\n",
       "      <td>SANTIAGO</td>\n",
       "      <td>44</td>\n",
       "      <td>...</td>\n",
       "      <td>NaN</td>\n",
       "      <td>NaN</td>\n",
       "      <td>NaN</td>\n",
       "      <td>NaN</td>\n",
       "      <td>NaN</td>\n",
       "      <td>NaN</td>\n",
       "      <td>6798000.0</td>\n",
       "      <td>5464000.0</td>\n",
       "      <td>59223000.0</td>\n",
       "      <td>2.0</td>\n",
       "    </tr>\n",
       "    <tr>\n",
       "      <th>3</th>\n",
       "      <td>32028</td>\n",
       "      <td>102625711</td>\n",
       "      <td>820985</td>\n",
       "      <td>08-04-1978</td>\n",
       "      <td>38</td>\n",
       "      <td>1638758</td>\n",
       "      <td>TALCA</td>\n",
       "      <td>276</td>\n",
       "      <td>TALCA</td>\n",
       "      <td>46</td>\n",
       "      <td>...</td>\n",
       "      <td>NaN</td>\n",
       "      <td>NaN</td>\n",
       "      <td>NaN</td>\n",
       "      <td>NaN</td>\n",
       "      <td>NaN</td>\n",
       "      <td>42285517.0</td>\n",
       "      <td>2169000.0</td>\n",
       "      <td>22097000.0</td>\n",
       "      <td>47123000.0</td>\n",
       "      <td>3.0</td>\n",
       "    </tr>\n",
       "    <tr>\n",
       "      <th>4</th>\n",
       "      <td>8711</td>\n",
       "      <td>17260461</td>\n",
       "      <td>138063</td>\n",
       "      <td>26-02-1968</td>\n",
       "      <td>48</td>\n",
       "      <td>815564</td>\n",
       "      <td>MAIPU</td>\n",
       "      <td>146</td>\n",
       "      <td>SANTIAGO</td>\n",
       "      <td>44</td>\n",
       "      <td>...</td>\n",
       "      <td>23.0</td>\n",
       "      <td>1980.0</td>\n",
       "      <td>260000.0</td>\n",
       "      <td>260000.0</td>\n",
       "      <td>2.0</td>\n",
       "      <td>16790748.0</td>\n",
       "      <td>1651000.0</td>\n",
       "      <td>5623000.0</td>\n",
       "      <td>31462000.0</td>\n",
       "      <td>1.0</td>\n",
       "    </tr>\n",
       "  </tbody>\n",
       "</table>\n",
       "<p>5 rows × 30 columns</p>\n",
       "</div>"
      ],
      "text/plain": [
       "   Unnamed: 0     client  client_id       f_nac  edad  ingr_liquido  \\\n",
       "0       36797  142669461    1141335  06-11-1965    50        805923   \n",
       "1       11886   23452836     187602  27-05-1966    49       3000000   \n",
       "2       30766   91666211     733309  19-12-1982    33       1076483   \n",
       "3       32028  102625711     820985  08-04-1978    38       1638758   \n",
       "4        8711   17260461     138063  26-02-1968    48        815564   \n",
       "\n",
       "         comuna  comuna_id        ciudad  ciudad_id  ...  auto_marca_id  \\\n",
       "0    TALCAHUANO        277    CONCEPCION         14  ...            NaN   \n",
       "1  SAN BERNARDO        246  SAN BERNARDO         41  ...            NaN   \n",
       "2      LO PRADO        130      SANTIAGO         44  ...            NaN   \n",
       "3         TALCA        276         TALCA         46  ...            NaN   \n",
       "4         MAIPU        146      SANTIAGO         44  ...           23.0   \n",
       "\n",
       "  period_fabr  auto_tasacion auto_tot_tas  num_auto  p_avaluo_total  \\\n",
       "0         NaN            NaN          NaN       NaN      27932680.0   \n",
       "1         NaN            NaN          NaN       NaN      96594660.0   \n",
       "2         NaN            NaN          NaN       NaN             NaN   \n",
       "3         NaN            NaN          NaN       NaN      42285517.0   \n",
       "4      1980.0       260000.0     260000.0       2.0      16790748.0   \n",
       "\n",
       "     dconsumo     lincred dhipotecario  num_Inst  \n",
       "0    813000.0   4041000.0   29651000.0       1.0  \n",
       "1  23374000.0   6833000.0          0.0       2.0  \n",
       "2   6798000.0   5464000.0   59223000.0       2.0  \n",
       "3   2169000.0  22097000.0   47123000.0       3.0  \n",
       "4   1651000.0   5623000.0   31462000.0       1.0  \n",
       "\n",
       "[5 rows x 30 columns]"
      ]
     },
     "execution_count": 85,
     "metadata": {},
     "output_type": "execute_result"
    }
   ],
   "source": [
    "data = pd.read_csv(\"Sample_OTT.csv\",sep=';')\n",
    "data.head()"
   ]
  },
  {
   "cell_type": "code",
   "execution_count": 88,
   "metadata": {},
   "outputs": [
    {
     "name": "stdout",
     "output_type": "stream",
     "text": [
      "<class 'pandas.core.frame.DataFrame'>\n",
      "RangeIndex: 5000 entries, 0 to 4999\n",
      "Data columns (total 30 columns):\n",
      " #   Column          Non-Null Count  Dtype  \n",
      "---  ------          --------------  -----  \n",
      " 0   Unnamed: 0      5000 non-null   int64  \n",
      " 1   client          5000 non-null   int64  \n",
      " 2   client_id       5000 non-null   int64  \n",
      " 3   f_nac           5000 non-null   object \n",
      " 4   edad            5000 non-null   int64  \n",
      " 5   ingr_liquido    5000 non-null   int64  \n",
      " 6   comuna          5000 non-null   object \n",
      " 7   comuna_id       5000 non-null   int64  \n",
      " 8   ciudad          5000 non-null   object \n",
      " 9   ciudad_id       5000 non-null   int64  \n",
      " 10  region          5000 non-null   int64  \n",
      " 11  gse             4025 non-null   object \n",
      " 12  gse_id          4025 non-null   float64\n",
      " 13  prof            1933 non-null   object \n",
      " 14  prof_id         1933 non-null   float64\n",
      " 15  genero          5000 non-null   int64  \n",
      " 16  cond_civ        5000 non-null   int64  \n",
      " 17  antig_client    5000 non-null   int64  \n",
      " 18  auto_marca      2751 non-null   object \n",
      " 19  auto            5000 non-null   int64  \n",
      " 20  auto_marca_id   2751 non-null   float64\n",
      " 21  period_fabr     2751 non-null   float64\n",
      " 22  auto_tasacion   2751 non-null   float64\n",
      " 23  auto_tot_tas    2751 non-null   float64\n",
      " 24  num_auto        2751 non-null   float64\n",
      " 25  p_avaluo_total  2936 non-null   float64\n",
      " 26  dconsumo        4997 non-null   float64\n",
      " 27  lincred         4997 non-null   float64\n",
      " 28  dhipotecario    4997 non-null   float64\n",
      " 29  num_Inst        4997 non-null   float64\n",
      "dtypes: float64(12), int64(12), object(6)\n",
      "memory usage: 1.1+ MB\n"
     ]
    }
   ],
   "source": [
    "data.info()"
   ]
  },
  {
   "cell_type": "markdown",
   "metadata": {},
   "source": [
    "Se le debe aplicar la misma limpieza que a la base de datos de entrenamiento"
   ]
  },
  {
   "cell_type": "code",
   "execution_count": 89,
   "metadata": {},
   "outputs": [],
   "source": [
    "del data[\"gse_id\"]\n",
    "del data[\"gse\"]\n",
    "del data[\"auto_marca\"]\n",
    "del data[\"auto_marca_id\"]\n",
    "del data[\"period_fabr\"]\n",
    "del data[\"auto_tasacion\"]\n",
    "del data[\"num_auto\"]\n",
    "del data[\"auto_tot_tas\"]\n",
    "del data[\"prof\"]\n",
    "del data[\"prof_id\"]\n",
    "del data[\"f_nac\"]\n",
    "del data[\"ciudad_id\"]\n",
    "del data[\"comuna_id\"]\n",
    "del data[\"Unnamed: 0\"]\n",
    "del data[\"comuna\"]\n",
    "del data[\"ciudad\"]"
   ]
  },
  {
   "cell_type": "code",
   "execution_count": 91,
   "metadata": {},
   "outputs": [
    {
     "name": "stdout",
     "output_type": "stream",
     "text": [
      "<class 'pandas.core.frame.DataFrame'>\n",
      "RangeIndex: 5000 entries, 0 to 4999\n",
      "Data columns (total 14 columns):\n",
      " #   Column          Non-Null Count  Dtype  \n",
      "---  ------          --------------  -----  \n",
      " 0   client          5000 non-null   int64  \n",
      " 1   client_id       5000 non-null   int64  \n",
      " 2   edad            5000 non-null   int64  \n",
      " 3   ingr_liquido    5000 non-null   int64  \n",
      " 4   region          5000 non-null   int64  \n",
      " 5   genero          5000 non-null   int64  \n",
      " 6   cond_civ        5000 non-null   int64  \n",
      " 7   antig_client    5000 non-null   int64  \n",
      " 8   auto            5000 non-null   int64  \n",
      " 9   p_avaluo_total  2936 non-null   float64\n",
      " 10  dconsumo        4997 non-null   float64\n",
      " 11  lincred         4997 non-null   float64\n",
      " 12  dhipotecario    4997 non-null   float64\n",
      " 13  num_Inst        4997 non-null   float64\n",
      "dtypes: float64(5), int64(9)\n",
      "memory usage: 547.0 KB\n"
     ]
    }
   ],
   "source": [
    "data.info()"
   ]
  },
  {
   "cell_type": "code",
   "execution_count": 92,
   "metadata": {},
   "outputs": [],
   "source": [
    "lower_limit, upper_limit = limpieza_outliers(data[\"ingr_liquido\"])\n",
    "data = data[(data[\"ingr_liquido\"]>lower_limit) & (data[\"ingr_liquido\"]<upper_limit)]\n",
    "\n",
    "lower_limit, upper_limit = limpieza_outliers(data[\"antig_client\"])\n",
    "data = data[(data[\"antig_client\"]>lower_limit) & (data[\"antig_client\"]<upper_limit)]\n",
    "\n",
    "lower_limit, upper_limit = limpieza_outliers(data[\"p_avaluo_total\"])\n",
    "data = data[(data[\"p_avaluo_total\"]>lower_limit) & (data[\"p_avaluo_total\"]<upper_limit)]\n",
    "\n",
    "lower_limit, upper_limit = limpieza_outliers(data[\"dconsumo\"])\n",
    "data = data[(data[\"dconsumo\"]>lower_limit) & (data[\"dconsumo\"]<upper_limit)]\n",
    "\n",
    "lower_limit, upper_limit = limpieza_outliers(data[\"lincred\"])\n",
    "data = data[(data[\"lincred\"]>lower_limit) & (data[\"lincred\"]<upper_limit)]\n",
    "\n",
    "lower_limit, upper_limit = limpieza_outliers(data[\"dhipotecario\"])\n",
    "data = data[(data[\"dhipotecario\"]>lower_limit) & (data[\"dhipotecario\"]<upper_limit)]"
   ]
  },
  {
   "cell_type": "code",
   "execution_count": 93,
   "metadata": {},
   "outputs": [],
   "source": [
    "#Creación de variables\n",
    "# Ratio de endeudamiento\n",
    "data[\"Ratio endeudamiento\"]= data[\"dconsumo\"]/data[\"ingr_liquido\"]\n",
    "#Ratio de línea de crédito\n",
    "data[\"Ratio Linea de crédito\"]=data[\"lincred\"]/(data[\"lincred\"]+data[\"dconsumo\"])"
   ]
  },
  {
   "cell_type": "code",
   "execution_count": 96,
   "metadata": {},
   "outputs": [],
   "source": [
    "data = data.dropna(subset=[\"Ratio Linea de crédito\"])"
   ]
  },
  {
   "cell_type": "code",
   "execution_count": 97,
   "metadata": {},
   "outputs": [],
   "source": [
    "del data[\"genero\"]\n",
    "del data[\"cond_civ\"]\n",
    "del data[\"antig_client\"]\n",
    "del data[\"auto\"]\n",
    "del data[\"p_avaluo_total\"]\n",
    "del data[\"dconsumo\"]\n",
    "del data[\"dhipotecario\"]"
   ]
  },
  {
   "cell_type": "code",
   "execution_count": 98,
   "metadata": {},
   "outputs": [
    {
     "data": {
      "text/plain": [
       "client                    0\n",
       "client_id                 0\n",
       "edad                      0\n",
       "ingr_liquido              0\n",
       "region                    0\n",
       "lincred                   0\n",
       "num_Inst                  0\n",
       "Ratio endeudamiento       0\n",
       "Ratio Linea de crédito    0\n",
       "dtype: int64"
      ]
     },
     "execution_count": 98,
     "metadata": {},
     "output_type": "execute_result"
    }
   ],
   "source": [
    "data.isnull().sum()"
   ]
  },
  {
   "cell_type": "code",
   "execution_count": 99,
   "metadata": {},
   "outputs": [],
   "source": [
    "cliente = data[\"client\"]\n",
    "id_cliente = data[\"client_id\"]\n",
    "del data[\"client\"]\n",
    "del data[\"client_id\"]"
   ]
  },
  {
   "cell_type": "code",
   "execution_count": 100,
   "metadata": {},
   "outputs": [
    {
     "data": {
      "text/html": [
       "<div>\n",
       "<style scoped>\n",
       "    .dataframe tbody tr th:only-of-type {\n",
       "        vertical-align: middle;\n",
       "    }\n",
       "\n",
       "    .dataframe tbody tr th {\n",
       "        vertical-align: top;\n",
       "    }\n",
       "\n",
       "    .dataframe thead th {\n",
       "        text-align: right;\n",
       "    }\n",
       "</style>\n",
       "<table border=\"1\" class=\"dataframe\">\n",
       "  <thead>\n",
       "    <tr style=\"text-align: right;\">\n",
       "      <th></th>\n",
       "      <th>edad</th>\n",
       "      <th>ingr_liquido</th>\n",
       "      <th>region</th>\n",
       "      <th>lincred</th>\n",
       "      <th>num_Inst</th>\n",
       "      <th>Ratio endeudamiento</th>\n",
       "      <th>Ratio Linea de crédito</th>\n",
       "    </tr>\n",
       "  </thead>\n",
       "  <tbody>\n",
       "    <tr>\n",
       "      <th>0</th>\n",
       "      <td>0.589744</td>\n",
       "      <td>0.137078</td>\n",
       "      <td>0.500000</td>\n",
       "      <td>0.095940</td>\n",
       "      <td>0.166667</td>\n",
       "      <td>0.008935</td>\n",
       "      <td>0.832509</td>\n",
       "    </tr>\n",
       "    <tr>\n",
       "      <th>3</th>\n",
       "      <td>0.282051</td>\n",
       "      <td>0.347275</td>\n",
       "      <td>0.428571</td>\n",
       "      <td>0.524620</td>\n",
       "      <td>0.500000</td>\n",
       "      <td>0.011723</td>\n",
       "      <td>0.910616</td>\n",
       "    </tr>\n",
       "    <tr>\n",
       "      <th>4</th>\n",
       "      <td>0.538462</td>\n",
       "      <td>0.139511</td>\n",
       "      <td>0.857143</td>\n",
       "      <td>0.133500</td>\n",
       "      <td>0.166667</td>\n",
       "      <td>0.017930</td>\n",
       "      <td>0.773027</td>\n",
       "    </tr>\n",
       "    <tr>\n",
       "      <th>15</th>\n",
       "      <td>0.384615</td>\n",
       "      <td>0.526553</td>\n",
       "      <td>0.000000</td>\n",
       "      <td>0.161633</td>\n",
       "      <td>0.166667</td>\n",
       "      <td>0.011217</td>\n",
       "      <td>0.695901</td>\n",
       "    </tr>\n",
       "    <tr>\n",
       "      <th>16</th>\n",
       "      <td>0.487179</td>\n",
       "      <td>0.442768</td>\n",
       "      <td>0.857143</td>\n",
       "      <td>0.265432</td>\n",
       "      <td>0.166667</td>\n",
       "      <td>0.029230</td>\n",
       "      <td>0.626787</td>\n",
       "    </tr>\n",
       "  </tbody>\n",
       "</table>\n",
       "</div>"
      ],
      "text/plain": [
       "        edad  ingr_liquido    region   lincred  num_Inst  Ratio endeudamiento  \\\n",
       "0   0.589744      0.137078  0.500000  0.095940  0.166667             0.008935   \n",
       "3   0.282051      0.347275  0.428571  0.524620  0.500000             0.011723   \n",
       "4   0.538462      0.139511  0.857143  0.133500  0.166667             0.017930   \n",
       "15  0.384615      0.526553  0.000000  0.161633  0.166667             0.011217   \n",
       "16  0.487179      0.442768  0.857143  0.265432  0.166667             0.029230   \n",
       "\n",
       "    Ratio Linea de crédito  \n",
       "0                 0.832509  \n",
       "3                 0.910616  \n",
       "4                 0.773027  \n",
       "15                0.695901  \n",
       "16                0.626787  "
      ]
     },
     "execution_count": 100,
     "metadata": {},
     "output_type": "execute_result"
    }
   ],
   "source": [
    "scaler = MinMaxScaler() \n",
    "scaled_values = scaler.fit_transform(data) \n",
    "data.loc[:,:] = scaled_values\n",
    "data.head()\n"
   ]
  },
  {
   "cell_type": "code",
   "execution_count": 101,
   "metadata": {},
   "outputs": [],
   "source": [
    "# La data esta procesada para entrar al modelo\n",
    "prediccion_final = grid_rf.predict(data)"
   ]
  },
  {
   "cell_type": "code",
   "execution_count": 112,
   "metadata": {},
   "outputs": [
    {
     "data": {
      "text/plain": [
       "array([1., 0., 1., ..., 1., 0., 0.])"
      ]
     },
     "execution_count": 112,
     "metadata": {},
     "output_type": "execute_result"
    }
   ],
   "source": [
    "prediccion_final"
   ]
  },
  {
   "cell_type": "code",
   "execution_count": 113,
   "metadata": {},
   "outputs": [
    {
     "data": {
      "text/html": [
       "<div>\n",
       "<style scoped>\n",
       "    .dataframe tbody tr th:only-of-type {\n",
       "        vertical-align: middle;\n",
       "    }\n",
       "\n",
       "    .dataframe tbody tr th {\n",
       "        vertical-align: top;\n",
       "    }\n",
       "\n",
       "    .dataframe thead th {\n",
       "        text-align: right;\n",
       "    }\n",
       "</style>\n",
       "<table border=\"1\" class=\"dataframe\">\n",
       "  <thead>\n",
       "    <tr style=\"text-align: right;\">\n",
       "      <th></th>\n",
       "      <th>cliente</th>\n",
       "      <th>id_cliente</th>\n",
       "      <th>marca_malo</th>\n",
       "    </tr>\n",
       "  </thead>\n",
       "  <tbody>\n",
       "    <tr>\n",
       "      <th>0</th>\n",
       "      <td>142669461</td>\n",
       "      <td>1141335</td>\n",
       "      <td>1.0</td>\n",
       "    </tr>\n",
       "    <tr>\n",
       "      <th>3</th>\n",
       "      <td>102625711</td>\n",
       "      <td>820985</td>\n",
       "      <td>0.0</td>\n",
       "    </tr>\n",
       "    <tr>\n",
       "      <th>4</th>\n",
       "      <td>17260461</td>\n",
       "      <td>138063</td>\n",
       "      <td>1.0</td>\n",
       "    </tr>\n",
       "    <tr>\n",
       "      <th>15</th>\n",
       "      <td>17497836</td>\n",
       "      <td>139962</td>\n",
       "      <td>1.0</td>\n",
       "    </tr>\n",
       "    <tr>\n",
       "      <th>16</th>\n",
       "      <td>266174711</td>\n",
       "      <td>2129377</td>\n",
       "      <td>1.0</td>\n",
       "    </tr>\n",
       "    <tr>\n",
       "      <th>...</th>\n",
       "      <td>...</td>\n",
       "      <td>...</td>\n",
       "      <td>...</td>\n",
       "    </tr>\n",
       "    <tr>\n",
       "      <th>4984</th>\n",
       "      <td>79842086</td>\n",
       "      <td>638716</td>\n",
       "      <td>0.0</td>\n",
       "    </tr>\n",
       "    <tr>\n",
       "      <th>4986</th>\n",
       "      <td>79725461</td>\n",
       "      <td>637783</td>\n",
       "      <td>1.0</td>\n",
       "    </tr>\n",
       "    <tr>\n",
       "      <th>4987</th>\n",
       "      <td>217811461</td>\n",
       "      <td>1742471</td>\n",
       "      <td>1.0</td>\n",
       "    </tr>\n",
       "    <tr>\n",
       "      <th>4988</th>\n",
       "      <td>80688211</td>\n",
       "      <td>645485</td>\n",
       "      <td>0.0</td>\n",
       "    </tr>\n",
       "    <tr>\n",
       "      <th>4994</th>\n",
       "      <td>86145961</td>\n",
       "      <td>689147</td>\n",
       "      <td>0.0</td>\n",
       "    </tr>\n",
       "  </tbody>\n",
       "</table>\n",
       "<p>1805 rows × 3 columns</p>\n",
       "</div>"
      ],
      "text/plain": [
       "        cliente  id_cliente  marca_malo\n",
       "0     142669461     1141335         1.0\n",
       "3     102625711      820985         0.0\n",
       "4      17260461      138063         1.0\n",
       "15     17497836      139962         1.0\n",
       "16    266174711     2129377         1.0\n",
       "...         ...         ...         ...\n",
       "4984   79842086      638716         0.0\n",
       "4986   79725461      637783         1.0\n",
       "4987  217811461     1742471         1.0\n",
       "4988   80688211      645485         0.0\n",
       "4994   86145961      689147         0.0\n",
       "\n",
       "[1805 rows x 3 columns]"
      ]
     },
     "execution_count": 113,
     "metadata": {},
     "output_type": "execute_result"
    }
   ],
   "source": [
    "clientes_prediccion_final = pd.DataFrame()\n",
    "\n",
    "clientes_prediccion_final[\"cliente\"] = cliente\n",
    "clientes_prediccion_final[\"id_cliente\"] = id_cliente\n",
    "clientes_prediccion_final[\"marca_malo\"] = prediccion_final\n",
    "\n",
    "clientes_prediccion_final"
   ]
  },
  {
   "cell_type": "markdown",
   "metadata": {},
   "source": [
    "## Bibliografia\n",
    "\n",
    "https://stackoverflow.com/questions/71181291/differences-between-repeatedstratifiedkfold-and-stratifiedkfold-in-sklearn\n",
    "\n",
    "https://scikit-learn.org/stable/modules/generated/sklearn.model_selection.RepeatedStratifiedKFold.html\n",
    "\n",
    "https://www.youtube.com/watch?v=h3ARWw3uSoE&ab_channel=O%C4%9FuzhanK%C4%B1r\n",
    "\n",
    "https://www.youtube.com/watch?v=ew_xvm9JClE&ab_channel=JaimeIsaacPe%C3%B1aMej%C3%ADa\n",
    "\n",
    "https://www.kaggle.com/code/funxexcel/p2-logistic-regression-hyperparameter-tuning/notebook\n",
    "\n",
    "https://www.youtube.com/watch?v=bIQMvQ6DWew&ab_channel=IsmailCapar\n"
   ]
  }
 ],
 "metadata": {
  "kernelspec": {
   "display_name": "Python 3",
   "language": "python",
   "name": "python3"
  },
  "language_info": {
   "codemirror_mode": {
    "name": "ipython",
    "version": 3
   },
   "file_extension": ".py",
   "mimetype": "text/x-python",
   "name": "python",
   "nbconvert_exporter": "python",
   "pygments_lexer": "ipython3",
   "version": "3.9.12"
  },
  "vscode": {
   "interpreter": {
    "hash": "abe26bdd53590c9d760929176bed7b4ae44172ad130c3395458831e1b4db3eb4"
   }
  }
 },
 "nbformat": 4,
 "nbformat_minor": 2
}
